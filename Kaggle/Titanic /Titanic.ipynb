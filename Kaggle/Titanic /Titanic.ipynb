{
 "cells": [
  {
   "cell_type": "code",
   "execution_count": 1,
   "id": "d24949eb-eff5-49df-8407-025d4a011084",
   "metadata": {},
   "outputs": [],
   "source": [
    "import numpy as np\n",
    "import pandas as pd\n",
    "import seaborn as sns\n",
    "import matplotlib.pyplot as plt"
   ]
  },
  {
   "cell_type": "code",
   "execution_count": 2,
   "id": "df280bc4-4f0e-435e-aa62-9cb1df0fbee6",
   "metadata": {},
   "outputs": [],
   "source": [
    "pd.set_option('display.max_rows', 500)\n",
    "pd.set_option('display.max_columns', 500)\n",
    "pd.set_option('display.width', 1000)"
   ]
  },
  {
   "cell_type": "code",
   "execution_count": 3,
   "id": "ebd620ae-5d20-4dba-b1ec-65d0efb51050",
   "metadata": {},
   "outputs": [],
   "source": [
    "df = pd.read_csv('train.csv')\n",
    "df_test = pd.read_csv('test.csv')"
   ]
  },
  {
   "cell_type": "code",
   "execution_count": 4,
   "id": "b095ecfa-0fd4-4b48-b41b-fb1ea152ee15",
   "metadata": {},
   "outputs": [
    {
     "data": {
      "text/html": [
       "<div>\n",
       "<style scoped>\n",
       "    .dataframe tbody tr th:only-of-type {\n",
       "        vertical-align: middle;\n",
       "    }\n",
       "\n",
       "    .dataframe tbody tr th {\n",
       "        vertical-align: top;\n",
       "    }\n",
       "\n",
       "    .dataframe thead th {\n",
       "        text-align: right;\n",
       "    }\n",
       "</style>\n",
       "<table border=\"1\" class=\"dataframe\">\n",
       "  <thead>\n",
       "    <tr style=\"text-align: right;\">\n",
       "      <th></th>\n",
       "      <th>PassengerId</th>\n",
       "      <th>Survived</th>\n",
       "      <th>Pclass</th>\n",
       "      <th>Name</th>\n",
       "      <th>Sex</th>\n",
       "      <th>Age</th>\n",
       "      <th>SibSp</th>\n",
       "      <th>Parch</th>\n",
       "      <th>Ticket</th>\n",
       "      <th>Fare</th>\n",
       "      <th>Cabin</th>\n",
       "      <th>Embarked</th>\n",
       "    </tr>\n",
       "  </thead>\n",
       "  <tbody>\n",
       "    <tr>\n",
       "      <th>0</th>\n",
       "      <td>1</td>\n",
       "      <td>0</td>\n",
       "      <td>3</td>\n",
       "      <td>Braund, Mr. Owen Harris</td>\n",
       "      <td>male</td>\n",
       "      <td>22.0</td>\n",
       "      <td>1</td>\n",
       "      <td>0</td>\n",
       "      <td>A/5 21171</td>\n",
       "      <td>7.2500</td>\n",
       "      <td>NaN</td>\n",
       "      <td>S</td>\n",
       "    </tr>\n",
       "    <tr>\n",
       "      <th>1</th>\n",
       "      <td>2</td>\n",
       "      <td>1</td>\n",
       "      <td>1</td>\n",
       "      <td>Cumings, Mrs. John Bradley (Florence Briggs Th...</td>\n",
       "      <td>female</td>\n",
       "      <td>38.0</td>\n",
       "      <td>1</td>\n",
       "      <td>0</td>\n",
       "      <td>PC 17599</td>\n",
       "      <td>71.2833</td>\n",
       "      <td>C85</td>\n",
       "      <td>C</td>\n",
       "    </tr>\n",
       "    <tr>\n",
       "      <th>2</th>\n",
       "      <td>3</td>\n",
       "      <td>1</td>\n",
       "      <td>3</td>\n",
       "      <td>Heikkinen, Miss. Laina</td>\n",
       "      <td>female</td>\n",
       "      <td>26.0</td>\n",
       "      <td>0</td>\n",
       "      <td>0</td>\n",
       "      <td>STON/O2. 3101282</td>\n",
       "      <td>7.9250</td>\n",
       "      <td>NaN</td>\n",
       "      <td>S</td>\n",
       "    </tr>\n",
       "    <tr>\n",
       "      <th>3</th>\n",
       "      <td>4</td>\n",
       "      <td>1</td>\n",
       "      <td>1</td>\n",
       "      <td>Futrelle, Mrs. Jacques Heath (Lily May Peel)</td>\n",
       "      <td>female</td>\n",
       "      <td>35.0</td>\n",
       "      <td>1</td>\n",
       "      <td>0</td>\n",
       "      <td>113803</td>\n",
       "      <td>53.1000</td>\n",
       "      <td>C123</td>\n",
       "      <td>S</td>\n",
       "    </tr>\n",
       "    <tr>\n",
       "      <th>4</th>\n",
       "      <td>5</td>\n",
       "      <td>0</td>\n",
       "      <td>3</td>\n",
       "      <td>Allen, Mr. William Henry</td>\n",
       "      <td>male</td>\n",
       "      <td>35.0</td>\n",
       "      <td>0</td>\n",
       "      <td>0</td>\n",
       "      <td>373450</td>\n",
       "      <td>8.0500</td>\n",
       "      <td>NaN</td>\n",
       "      <td>S</td>\n",
       "    </tr>\n",
       "  </tbody>\n",
       "</table>\n",
       "</div>"
      ],
      "text/plain": [
       "   PassengerId  Survived  Pclass                                               Name     Sex   Age  SibSp  Parch            Ticket     Fare Cabin Embarked\n",
       "0            1         0       3                            Braund, Mr. Owen Harris    male  22.0      1      0         A/5 21171   7.2500   NaN        S\n",
       "1            2         1       1  Cumings, Mrs. John Bradley (Florence Briggs Th...  female  38.0      1      0          PC 17599  71.2833   C85        C\n",
       "2            3         1       3                             Heikkinen, Miss. Laina  female  26.0      0      0  STON/O2. 3101282   7.9250   NaN        S\n",
       "3            4         1       1       Futrelle, Mrs. Jacques Heath (Lily May Peel)  female  35.0      1      0            113803  53.1000  C123        S\n",
       "4            5         0       3                           Allen, Mr. William Henry    male  35.0      0      0            373450   8.0500   NaN        S"
      ]
     },
     "execution_count": 4,
     "metadata": {},
     "output_type": "execute_result"
    }
   ],
   "source": [
    "df.head()"
   ]
  },
  {
   "cell_type": "code",
   "execution_count": 5,
   "id": "aeb907e9-6ebd-44f4-abd6-8d4b5d98de3f",
   "metadata": {},
   "outputs": [
    {
     "data": {
      "text/html": [
       "<div>\n",
       "<style scoped>\n",
       "    .dataframe tbody tr th:only-of-type {\n",
       "        vertical-align: middle;\n",
       "    }\n",
       "\n",
       "    .dataframe tbody tr th {\n",
       "        vertical-align: top;\n",
       "    }\n",
       "\n",
       "    .dataframe thead th {\n",
       "        text-align: right;\n",
       "    }\n",
       "</style>\n",
       "<table border=\"1\" class=\"dataframe\">\n",
       "  <thead>\n",
       "    <tr style=\"text-align: right;\">\n",
       "      <th></th>\n",
       "      <th>PassengerId</th>\n",
       "      <th>Pclass</th>\n",
       "      <th>Name</th>\n",
       "      <th>Sex</th>\n",
       "      <th>Age</th>\n",
       "      <th>SibSp</th>\n",
       "      <th>Parch</th>\n",
       "      <th>Ticket</th>\n",
       "      <th>Fare</th>\n",
       "      <th>Cabin</th>\n",
       "      <th>Embarked</th>\n",
       "    </tr>\n",
       "  </thead>\n",
       "  <tbody>\n",
       "    <tr>\n",
       "      <th>0</th>\n",
       "      <td>892</td>\n",
       "      <td>3</td>\n",
       "      <td>Kelly, Mr. James</td>\n",
       "      <td>male</td>\n",
       "      <td>34.5</td>\n",
       "      <td>0</td>\n",
       "      <td>0</td>\n",
       "      <td>330911</td>\n",
       "      <td>7.8292</td>\n",
       "      <td>NaN</td>\n",
       "      <td>Q</td>\n",
       "    </tr>\n",
       "    <tr>\n",
       "      <th>1</th>\n",
       "      <td>893</td>\n",
       "      <td>3</td>\n",
       "      <td>Wilkes, Mrs. James (Ellen Needs)</td>\n",
       "      <td>female</td>\n",
       "      <td>47.0</td>\n",
       "      <td>1</td>\n",
       "      <td>0</td>\n",
       "      <td>363272</td>\n",
       "      <td>7.0000</td>\n",
       "      <td>NaN</td>\n",
       "      <td>S</td>\n",
       "    </tr>\n",
       "    <tr>\n",
       "      <th>2</th>\n",
       "      <td>894</td>\n",
       "      <td>2</td>\n",
       "      <td>Myles, Mr. Thomas Francis</td>\n",
       "      <td>male</td>\n",
       "      <td>62.0</td>\n",
       "      <td>0</td>\n",
       "      <td>0</td>\n",
       "      <td>240276</td>\n",
       "      <td>9.6875</td>\n",
       "      <td>NaN</td>\n",
       "      <td>Q</td>\n",
       "    </tr>\n",
       "    <tr>\n",
       "      <th>3</th>\n",
       "      <td>895</td>\n",
       "      <td>3</td>\n",
       "      <td>Wirz, Mr. Albert</td>\n",
       "      <td>male</td>\n",
       "      <td>27.0</td>\n",
       "      <td>0</td>\n",
       "      <td>0</td>\n",
       "      <td>315154</td>\n",
       "      <td>8.6625</td>\n",
       "      <td>NaN</td>\n",
       "      <td>S</td>\n",
       "    </tr>\n",
       "    <tr>\n",
       "      <th>4</th>\n",
       "      <td>896</td>\n",
       "      <td>3</td>\n",
       "      <td>Hirvonen, Mrs. Alexander (Helga E Lindqvist)</td>\n",
       "      <td>female</td>\n",
       "      <td>22.0</td>\n",
       "      <td>1</td>\n",
       "      <td>1</td>\n",
       "      <td>3101298</td>\n",
       "      <td>12.2875</td>\n",
       "      <td>NaN</td>\n",
       "      <td>S</td>\n",
       "    </tr>\n",
       "  </tbody>\n",
       "</table>\n",
       "</div>"
      ],
      "text/plain": [
       "   PassengerId  Pclass                                          Name     Sex   Age  SibSp  Parch   Ticket     Fare Cabin Embarked\n",
       "0          892       3                              Kelly, Mr. James    male  34.5      0      0   330911   7.8292   NaN        Q\n",
       "1          893       3              Wilkes, Mrs. James (Ellen Needs)  female  47.0      1      0   363272   7.0000   NaN        S\n",
       "2          894       2                     Myles, Mr. Thomas Francis    male  62.0      0      0   240276   9.6875   NaN        Q\n",
       "3          895       3                              Wirz, Mr. Albert    male  27.0      0      0   315154   8.6625   NaN        S\n",
       "4          896       3  Hirvonen, Mrs. Alexander (Helga E Lindqvist)  female  22.0      1      1  3101298  12.2875   NaN        S"
      ]
     },
     "execution_count": 5,
     "metadata": {},
     "output_type": "execute_result"
    }
   ],
   "source": [
    "df_test.head()"
   ]
  },
  {
   "cell_type": "code",
   "execution_count": 6,
   "id": "d6baa9ee-afa3-4fd8-8db7-5fcbdcbc17b8",
   "metadata": {},
   "outputs": [
    {
     "data": {
      "text/plain": [
       "(891, 12)"
      ]
     },
     "execution_count": 6,
     "metadata": {},
     "output_type": "execute_result"
    }
   ],
   "source": [
    "df.shape"
   ]
  },
  {
   "cell_type": "code",
   "execution_count": 7,
   "id": "5535d7a6-cfdb-47de-b8ac-76be05755723",
   "metadata": {},
   "outputs": [
    {
     "data": {
      "text/plain": [
       "(418, 11)"
      ]
     },
     "execution_count": 7,
     "metadata": {},
     "output_type": "execute_result"
    }
   ],
   "source": [
    "df_test.shape"
   ]
  },
  {
   "cell_type": "markdown",
   "id": "2237348b-4654-4065-8579-8f57edaf9515",
   "metadata": {},
   "source": [
    "<h3>Handle Missing Data</h3>"
   ]
  },
  {
   "cell_type": "code",
   "execution_count": 8,
   "id": "fb3cd928-3f6d-4637-980c-8f3d33b6d382",
   "metadata": {},
   "outputs": [
    {
     "data": {
      "text/plain": [
       "<AxesSubplot:>"
      ]
     },
     "execution_count": 8,
     "metadata": {},
     "output_type": "execute_result"
    },
    {
     "data": {
      "image/png": "[encoded data removed]",
      "text/plain": [
       "<Figure size 432x288 with 1 Axes>"
      ]
     },
     "metadata": {
      "needs_background": "light"
     },
     "output_type": "display_data"
    }
   ],
   "source": [
    "# Training Data\n",
    "sns.heatmap(df.isnull(), yticklabels=False, cbar=False, cmap='viridis')"
   ]
  },
  {
   "cell_type": "code",
   "execution_count": 9,
   "id": "6432bd72-578d-4f20-b4a6-a3eae10f1b00",
   "metadata": {},
   "outputs": [
    {
     "data": {
      "text/plain": [
       "<AxesSubplot:>"
      ]
     },
     "execution_count": 9,
     "metadata": {},
     "output_type": "execute_result"
    },
    {
     "data": {
      "image/png": "[encoded data removed]",
      "text/plain": [
       "<Figure size 432x288 with 1 Axes>"
      ]
     },
     "metadata": {
      "needs_background": "light"
     },
     "output_type": "display_data"
    }
   ],
   "source": [
    "# Test Data\n",
    "sns.heatmap(df_test.isnull(), yticklabels=False, cbar=False, cmap='viridis')"
   ]
  },
  {
   "cell_type": "code",
   "execution_count": 10,
   "id": "198388c6-fe6c-4b95-8e79-d524e2c6d0b9",
   "metadata": {},
   "outputs": [
    {
     "data": {
      "text/html": [
       "<div>\n",
       "<style scoped>\n",
       "    .dataframe tbody tr th:only-of-type {\n",
       "        vertical-align: middle;\n",
       "    }\n",
       "\n",
       "    .dataframe tbody tr th {\n",
       "        vertical-align: top;\n",
       "    }\n",
       "\n",
       "    .dataframe thead th {\n",
       "        text-align: right;\n",
       "    }\n",
       "</style>\n",
       "<table border=\"1\" class=\"dataframe\">\n",
       "  <thead>\n",
       "    <tr style=\"text-align: right;\">\n",
       "      <th></th>\n",
       "      <th>Survived</th>\n",
       "      <th>Pclass</th>\n",
       "      <th>Sex</th>\n",
       "      <th>Age</th>\n",
       "      <th>SibSp</th>\n",
       "      <th>Parch</th>\n",
       "      <th>Fare</th>\n",
       "      <th>Embarked</th>\n",
       "    </tr>\n",
       "  </thead>\n",
       "  <tbody>\n",
       "    <tr>\n",
       "      <th>0</th>\n",
       "      <td>0</td>\n",
       "      <td>3</td>\n",
       "      <td>male</td>\n",
       "      <td>22.0</td>\n",
       "      <td>1</td>\n",
       "      <td>0</td>\n",
       "      <td>7.2500</td>\n",
       "      <td>S</td>\n",
       "    </tr>\n",
       "    <tr>\n",
       "      <th>1</th>\n",
       "      <td>1</td>\n",
       "      <td>1</td>\n",
       "      <td>female</td>\n",
       "      <td>38.0</td>\n",
       "      <td>1</td>\n",
       "      <td>0</td>\n",
       "      <td>71.2833</td>\n",
       "      <td>C</td>\n",
       "    </tr>\n",
       "    <tr>\n",
       "      <th>2</th>\n",
       "      <td>1</td>\n",
       "      <td>3</td>\n",
       "      <td>female</td>\n",
       "      <td>26.0</td>\n",
       "      <td>0</td>\n",
       "      <td>0</td>\n",
       "      <td>7.9250</td>\n",
       "      <td>S</td>\n",
       "    </tr>\n",
       "    <tr>\n",
       "      <th>3</th>\n",
       "      <td>1</td>\n",
       "      <td>1</td>\n",
       "      <td>female</td>\n",
       "      <td>35.0</td>\n",
       "      <td>1</td>\n",
       "      <td>0</td>\n",
       "      <td>53.1000</td>\n",
       "      <td>S</td>\n",
       "    </tr>\n",
       "    <tr>\n",
       "      <th>4</th>\n",
       "      <td>0</td>\n",
       "      <td>3</td>\n",
       "      <td>male</td>\n",
       "      <td>35.0</td>\n",
       "      <td>0</td>\n",
       "      <td>0</td>\n",
       "      <td>8.0500</td>\n",
       "      <td>S</td>\n",
       "    </tr>\n",
       "  </tbody>\n",
       "</table>\n",
       "</div>"
      ],
      "text/plain": [
       "   Survived  Pclass     Sex   Age  SibSp  Parch     Fare Embarked\n",
       "0         0       3    male  22.0      1      0   7.2500        S\n",
       "1         1       1  female  38.0      1      0  71.2833        C\n",
       "2         1       3  female  26.0      0      0   7.9250        S\n",
       "3         1       1  female  35.0      1      0  53.1000        S\n",
       "4         0       3    male  35.0      0      0   8.0500        S"
      ]
     },
     "execution_count": 10,
     "metadata": {},
     "output_type": "execute_result"
    }
   ],
   "source": [
    "# Drop unecessary fields\n",
    "df.drop(['PassengerId','Name','Ticket','Cabin'], axis='columns', inplace=True)\n",
    "df_test.drop(['PassengerId','Name','Ticket','Cabin'], axis='columns', inplace=True)\n",
    "df.head()"
   ]
  },
  {
   "cell_type": "code",
   "execution_count": 11,
   "id": "67537e9b-96bf-4ded-8e66-772471dd207f",
   "metadata": {},
   "outputs": [],
   "source": [
    "# Function to handle all missing data in dataframe\n",
    "def handle_missing_values(df):\n",
    "    for column in df:\n",
    "        if df[column].isnull().sum() > 0:\n",
    "            if df[column].dtypes == 'object':\n",
    "                df[column]= df[column].fillna(df[column].mode()[0])\n",
    "            else:\n",
    "                df[column]= df[column].fillna(df[column].mean())\n",
    "    return df            "
   ]
  },
  {
   "cell_type": "code",
   "execution_count": 12,
   "id": "5428770e-a01a-40e9-b7b5-0579c2bf6fee",
   "metadata": {},
   "outputs": [],
   "source": [
    "df = handle_missing_values(df)\n",
    "df_test = handle_missing_values(df_test)"
   ]
  },
  {
   "cell_type": "code",
   "execution_count": 13,
   "id": "fc9dcae9-5c15-4167-8048-4cd7e4f318df",
   "metadata": {},
   "outputs": [
    {
     "data": {
      "text/plain": [
       "Survived    0\n",
       "Pclass      0\n",
       "Sex         0\n",
       "Age         0\n",
       "SibSp       0\n",
       "Parch       0\n",
       "Fare        0\n",
       "Embarked    0\n",
       "dtype: int64"
      ]
     },
     "execution_count": 13,
     "metadata": {},
     "output_type": "execute_result"
    }
   ],
   "source": [
    "df.isnull().sum()"
   ]
  },
  {
   "cell_type": "code",
   "execution_count": 14,
   "id": "b002cc6f-dd70-4401-b0bd-3a2d4e0e9406",
   "metadata": {},
   "outputs": [
    {
     "data": {
      "text/plain": [
       "Pclass      0\n",
       "Sex         0\n",
       "Age         0\n",
       "SibSp       0\n",
       "Parch       0\n",
       "Fare        0\n",
       "Embarked    0\n",
       "dtype: int64"
      ]
     },
     "execution_count": 14,
     "metadata": {},
     "output_type": "execute_result"
    }
   ],
   "source": [
    "df_test.isnull().sum()"
   ]
  },
  {
   "cell_type": "markdown",
   "id": "98e702fb-be55-4435-b1df-00fcd4ee7699",
   "metadata": {},
   "source": [
    "<h3>Handle Categorical Data</h3>"
   ]
  },
  {
   "cell_type": "code",
   "execution_count": 15,
   "id": "ed7a2038-1819-4a55-84a7-402aff41cf26",
   "metadata": {},
   "outputs": [],
   "source": [
    "cat_columns = ['Sex', 'Embarked']"
   ]
  },
  {
   "cell_type": "code",
   "execution_count": 16,
   "id": "67d7b3b2-563f-4148-8de2-e002c327febd",
   "metadata": {},
   "outputs": [],
   "source": [
    "# Original One Hot Encoder Function from Krish Naik edited by me\n",
    "\n",
    "def one_hot_encode(final_df, multcolumns):\n",
    "    df_final=final_df\n",
    "    i=0\n",
    "    for fields in multcolumns:\n",
    "        \n",
    "        print(fields)\n",
    "        df1=pd.get_dummies(final_df[fields],drop_first=True)\n",
    "        \n",
    "        final_df.drop([fields],axis=1,inplace=True)\n",
    "        if i==0:\n",
    "            df_final=df1.copy()\n",
    "        else:\n",
    "            \n",
    "            df_final=pd.concat([df_final,df1],axis=1)\n",
    "        i=i+1\n",
    "            \n",
    "    df_final=pd.concat([final_df,df_final],axis=1)\n",
    "    df_final = df_final.loc[:,~df_final.columns.duplicated()]\n",
    "        \n",
    "    return df_final"
   ]
  },
  {
   "cell_type": "code",
   "execution_count": 17,
   "id": "c34c1012-4de1-4611-8f71-d20e0587ae76",
   "metadata": {},
   "outputs": [],
   "source": [
    "final_df = pd.concat([df,df_test], axis='rows')"
   ]
  },
  {
   "cell_type": "code",
   "execution_count": 18,
   "id": "fa6a8a5c-24ea-4cb1-907a-729d69c7b73b",
   "metadata": {},
   "outputs": [
    {
     "data": {
      "text/plain": [
       "(1309, 8)"
      ]
     },
     "execution_count": 18,
     "metadata": {},
     "output_type": "execute_result"
    }
   ],
   "source": [
    "final_df.shape"
   ]
  },
  {
   "cell_type": "code",
   "execution_count": 19,
   "id": "327167ca-a116-41a6-aa3a-156a35d466b7",
   "metadata": {},
   "outputs": [
    {
     "name": "stdout",
     "output_type": "stream",
     "text": [
      "Sex\n",
      "Embarked\n"
     ]
    }
   ],
   "source": [
    "final_df = one_hot_encode(final_df, cat_columns)"
   ]
  },
  {
   "cell_type": "code",
   "execution_count": 20,
   "id": "639feb93-f349-4352-9d5e-60a3e22d2e40",
   "metadata": {},
   "outputs": [
    {
     "data": {
      "text/html": [
       "<div>\n",
       "<style scoped>\n",
       "    .dataframe tbody tr th:only-of-type {\n",
       "        vertical-align: middle;\n",
       "    }\n",
       "\n",
       "    .dataframe tbody tr th {\n",
       "        vertical-align: top;\n",
       "    }\n",
       "\n",
       "    .dataframe thead th {\n",
       "        text-align: right;\n",
       "    }\n",
       "</style>\n",
       "<table border=\"1\" class=\"dataframe\">\n",
       "  <thead>\n",
       "    <tr style=\"text-align: right;\">\n",
       "      <th></th>\n",
       "      <th>Survived</th>\n",
       "      <th>Pclass</th>\n",
       "      <th>Age</th>\n",
       "      <th>SibSp</th>\n",
       "      <th>Parch</th>\n",
       "      <th>Fare</th>\n",
       "      <th>male</th>\n",
       "      <th>Q</th>\n",
       "      <th>S</th>\n",
       "    </tr>\n",
       "  </thead>\n",
       "  <tbody>\n",
       "    <tr>\n",
       "      <th>0</th>\n",
       "      <td>0.0</td>\n",
       "      <td>3</td>\n",
       "      <td>22.0</td>\n",
       "      <td>1</td>\n",
       "      <td>0</td>\n",
       "      <td>7.2500</td>\n",
       "      <td>1</td>\n",
       "      <td>0</td>\n",
       "      <td>1</td>\n",
       "    </tr>\n",
       "    <tr>\n",
       "      <th>1</th>\n",
       "      <td>1.0</td>\n",
       "      <td>1</td>\n",
       "      <td>38.0</td>\n",
       "      <td>1</td>\n",
       "      <td>0</td>\n",
       "      <td>71.2833</td>\n",
       "      <td>0</td>\n",
       "      <td>0</td>\n",
       "      <td>0</td>\n",
       "    </tr>\n",
       "    <tr>\n",
       "      <th>2</th>\n",
       "      <td>1.0</td>\n",
       "      <td>3</td>\n",
       "      <td>26.0</td>\n",
       "      <td>0</td>\n",
       "      <td>0</td>\n",
       "      <td>7.9250</td>\n",
       "      <td>0</td>\n",
       "      <td>0</td>\n",
       "      <td>1</td>\n",
       "    </tr>\n",
       "    <tr>\n",
       "      <th>3</th>\n",
       "      <td>1.0</td>\n",
       "      <td>1</td>\n",
       "      <td>35.0</td>\n",
       "      <td>1</td>\n",
       "      <td>0</td>\n",
       "      <td>53.1000</td>\n",
       "      <td>0</td>\n",
       "      <td>0</td>\n",
       "      <td>1</td>\n",
       "    </tr>\n",
       "    <tr>\n",
       "      <th>4</th>\n",
       "      <td>0.0</td>\n",
       "      <td>3</td>\n",
       "      <td>35.0</td>\n",
       "      <td>0</td>\n",
       "      <td>0</td>\n",
       "      <td>8.0500</td>\n",
       "      <td>1</td>\n",
       "      <td>0</td>\n",
       "      <td>1</td>\n",
       "    </tr>\n",
       "  </tbody>\n",
       "</table>\n",
       "</div>"
      ],
      "text/plain": [
       "   Survived  Pclass   Age  SibSp  Parch     Fare  male  Q  S\n",
       "0       0.0       3  22.0      1      0   7.2500     1  0  1\n",
       "1       1.0       1  38.0      1      0  71.2833     0  0  0\n",
       "2       1.0       3  26.0      0      0   7.9250     0  0  1\n",
       "3       1.0       1  35.0      1      0  53.1000     0  0  1\n",
       "4       0.0       3  35.0      0      0   8.0500     1  0  1"
      ]
     },
     "execution_count": 20,
     "metadata": {},
     "output_type": "execute_result"
    }
   ],
   "source": [
    "final_df.head()"
   ]
  },
  {
   "cell_type": "code",
   "execution_count": 21,
   "id": "f3e55198-e52b-42a4-8af5-78dcf999038d",
   "metadata": {},
   "outputs": [],
   "source": [
    "# Convert columns to int instead of float\n",
    "final_df['Age'] = final_df['Age'].astype(int)"
   ]
  },
  {
   "cell_type": "code",
   "execution_count": 22,
   "id": "2187d785-13e4-44f6-998d-420ea2d42113",
   "metadata": {},
   "outputs": [],
   "source": [
    "df_Train = final_df.iloc[:df.shape[0],:]\n",
    "df_Test = final_df.iloc[df.shape[0]:,:]"
   ]
  },
  {
   "cell_type": "code",
   "execution_count": 23,
   "id": "83f99442-f9a5-4404-9d03-4fc9ede9a07e",
   "metadata": {},
   "outputs": [
    {
     "name": "stderr",
     "output_type": "stream",
     "text": [
      "/var/folders/7g/47sdtwns2g782ffr3fgfgly80000gn/T/ipykernel_26911/4010551092.py:1: SettingWithCopyWarning: \n",
      "A value is trying to be set on a copy of a slice from a DataFrame\n",
      "\n",
      "See the caveats in the documentation: https://pandas.pydata.org/pandas-docs/stable/user_guide/indexing.html#returning-a-view-versus-a-copy\n",
      "  df_Test.drop(['Survived'], axis='columns', inplace=True)\n"
     ]
    }
   ],
   "source": [
    "df_Test.drop(['Survived'], axis='columns', inplace=True)"
   ]
  },
  {
   "cell_type": "code",
   "execution_count": 24,
   "id": "37ed9347-7ab1-4794-9dd8-344a10340fa7",
   "metadata": {},
   "outputs": [
    {
     "data": {
      "text/plain": [
       "(891, 9)"
      ]
     },
     "execution_count": 24,
     "metadata": {},
     "output_type": "execute_result"
    }
   ],
   "source": [
    "df_Train.shape"
   ]
  },
  {
   "cell_type": "code",
   "execution_count": 25,
   "id": "9fed7a3f-be81-4e0c-a1a9-389f2e2fcdac",
   "metadata": {},
   "outputs": [
    {
     "data": {
      "text/plain": [
       "(418, 8)"
      ]
     },
     "execution_count": 25,
     "metadata": {},
     "output_type": "execute_result"
    }
   ],
   "source": [
    "df_Test.shape"
   ]
  },
  {
   "cell_type": "markdown",
   "id": "19b1e04b-f0a1-4f40-8818-60292fc70aaf",
   "metadata": {},
   "source": [
    "<h3>Modeling</h3>"
   ]
  },
  {
   "cell_type": "code",
   "execution_count": 26,
   "id": "abbe48e7-ef3d-4975-af33-e2138dd7f523",
   "metadata": {},
   "outputs": [],
   "source": [
    "# Split training x and y data\n",
    "X_train = df_Train.drop(['Survived'], axis='columns')\n",
    "y_train = df_Train['Survived'].astype(int)\n",
    "\n",
    "# Get actual survived data\n",
    "actual_df = pd.read_csv('gender_submission.csv')\n",
    "y_test = actual_df['Survived']"
   ]
  },
  {
   "cell_type": "code",
   "execution_count": 27,
   "id": "406c28fa-e332-4579-b1e5-84a4ab9b35f2",
   "metadata": {},
   "outputs": [],
   "source": [
    "# scaled features\n",
    "from sklearn.preprocessing import StandardScaler\n",
    "\n",
    "scaler = StandardScaler()\n",
    "X_train_scaled = pd.DataFrame(scaler.fit_transform(X_train), columns=X_train.columns)\n",
    "X_test_scaled = pd.DataFrame(scaler.fit_transform(df_Test), columns=df_Test.columns)"
   ]
  },
  {
   "cell_type": "markdown",
   "id": "76c76b6c-146b-4807-93a3-5acdc6e99510",
   "metadata": {},
   "source": [
    "<h4>Initial Cross Validation</h4>"
   ]
  },
  {
   "cell_type": "markdown",
   "id": "2a70294e-048b-4d95-b6a3-336d27cbd805",
   "metadata": {},
   "source": [
    "- Naive Bayes (77.8%)\n",
    "- Logistic Regression (79.0%)\n",
    "- Decision Tree (78.0%)\n",
    "- K Nearest Neighbor (80.9%) - Scaled\n",
    "- Random Forest (81.5%)\n",
    "- Support Vector Classifier (82.8%) - Scaled\n",
    "- Xtreme Gradient Boosting (81.4%)\n",
    "- Soft Voting Classifier - All Models (82.6%)"
   ]
  },
  {
   "cell_type": "markdown",
   "id": "f1bf48e0-01da-44dd-b7c7-7be522645cc2",
   "metadata": {
    "tags": []
   },
   "source": [
    "<h5>Audition models</h5>"
   ]
  },
  {
   "cell_type": "code",
   "execution_count": 28,
   "id": "440a7ba9-162a-4e25-90b8-5062c5485d08",
   "metadata": {},
   "outputs": [],
   "source": [
    "from sklearn.model_selection import cross_val_score\n",
    "from sklearn.naive_bayes import GaussianNB\n",
    "from sklearn.linear_model import LogisticRegression\n",
    "from sklearn import tree\n",
    "from sklearn.neighbors import KNeighborsClassifier\n",
    "from sklearn.ensemble import RandomForestClassifier\n",
    "from sklearn.svm import SVC"
   ]
  },
  {
   "cell_type": "code",
   "execution_count": 29,
   "id": "2b4bf9b6-ab0c-42d7-9039-496abb5706d9",
   "metadata": {},
   "outputs": [
    {
     "name": "stdout",
     "output_type": "stream",
     "text": [
      "[0.70949721 0.78651685 0.79775281 0.79213483 0.80337079]\n",
      "0.778\n"
     ]
    }
   ],
   "source": [
    "gnb = GaussianNB()\n",
    "cv = cross_val_score(gnb, X_train, y_train,cv=5)\n",
    "print(cv)\n",
    "print(cv.mean().round(3))"
   ]
  },
  {
   "cell_type": "code",
   "execution_count": 30,
   "id": "e2ac0d72-a0a5-4e4d-a0eb-6d4fff3a7afd",
   "metadata": {},
   "outputs": [
    {
     "name": "stdout",
     "output_type": "stream",
     "text": [
      "[0.70949721 0.78651685 0.79775281 0.79213483 0.80337079]\n",
      "0.778\n"
     ]
    }
   ],
   "source": [
    "# scaled\n",
    "gnb = GaussianNB()\n",
    "cv = cross_val_score(gnb, X_train_scaled, y_train,cv=5)\n",
    "print(cv)\n",
    "print(cv.mean().round(3))"
   ]
  },
  {
   "cell_type": "code",
   "execution_count": 31,
   "id": "7ba1cc37-40e9-482e-8730-9768662de0a2",
   "metadata": {},
   "outputs": [
    {
     "name": "stdout",
     "output_type": "stream",
     "text": [
      "[0.78212291 0.78651685 0.78651685 0.76966292 0.8258427 ]\n",
      "0.79\n"
     ]
    }
   ],
   "source": [
    "lr = LogisticRegression(max_iter = 2000)\n",
    "cv = cross_val_score(lr, X_train, y_train,cv=5)\n",
    "print(cv)\n",
    "print(cv.mean().round(3))"
   ]
  },
  {
   "cell_type": "code",
   "execution_count": 32,
   "id": "24d2e556-9ac3-4d39-8e21-0201cb118fc7",
   "metadata": {},
   "outputs": [
    {
     "name": "stdout",
     "output_type": "stream",
     "text": [
      "[0.77094972 0.78651685 0.78089888 0.76966292 0.82022472]\n",
      "0.786\n"
     ]
    }
   ],
   "source": [
    "# scaled\n",
    "lr = LogisticRegression(max_iter = 2000)\n",
    "cv = cross_val_score(lr, X_train_scaled, y_train,cv=5)\n",
    "print(cv)\n",
    "print(cv.mean().round(3))"
   ]
  },
  {
   "cell_type": "code",
   "execution_count": 33,
   "id": "4e621810-914d-41a4-87cb-49251fab11f2",
   "metadata": {},
   "outputs": [
    {
     "name": "stdout",
     "output_type": "stream",
     "text": [
      "[0.7150838  0.79775281 0.80337079 0.76966292 0.81460674]\n",
      "0.78\n"
     ]
    }
   ],
   "source": [
    "dt = tree.DecisionTreeClassifier(random_state = 1)\n",
    "cv = cross_val_score(dt, X_train, y_train,cv=5)\n",
    "print(cv)\n",
    "print(cv.mean().round(3))"
   ]
  },
  {
   "cell_type": "code",
   "execution_count": 34,
   "id": "93f934f0-c260-4c21-a0a8-bc04377fbe4b",
   "metadata": {},
   "outputs": [
    {
     "name": "stdout",
     "output_type": "stream",
     "text": [
      "[0.7150838  0.79775281 0.80898876 0.76966292 0.80898876]\n",
      "0.78\n"
     ]
    }
   ],
   "source": [
    "# scaled\n",
    "dt = tree.DecisionTreeClassifier(random_state = 1)\n",
    "cv = cross_val_score(dt, X_train_scaled, y_train,cv=5)\n",
    "print(cv)\n",
    "print(cv.mean().round(3))"
   ]
  },
  {
   "cell_type": "code",
   "execution_count": 35,
   "id": "8c994a17-7cc9-46a9-b190-92e23b68cc6c",
   "metadata": {},
   "outputs": [
    {
     "name": "stdout",
     "output_type": "stream",
     "text": [
      "[0.63128492 0.66853933 0.70786517 0.7247191  0.71910112]\n",
      "0.69\n"
     ]
    }
   ],
   "source": [
    "knn = KNeighborsClassifier()\n",
    "cv = cross_val_score(knn, X_train, y_train,cv=5)\n",
    "print(cv)\n",
    "print(cv.mean().round(3))"
   ]
  },
  {
   "cell_type": "code",
   "execution_count": 36,
   "id": "1770fc5e-6551-47d4-a26b-dfb5b9fad117",
   "metadata": {},
   "outputs": [
    {
     "name": "stdout",
     "output_type": "stream",
     "text": [
      "[0.79329609 0.78089888 0.8258427  0.8258427  0.82022472]\n",
      "0.809\n"
     ]
    }
   ],
   "source": [
    "# scaled\n",
    "knn = KNeighborsClassifier()\n",
    "cv = cross_val_score(knn, X_train_scaled, y_train,cv=5)\n",
    "print(cv)\n",
    "print(cv.mean().round(3))"
   ]
  },
  {
   "cell_type": "code",
   "execution_count": 37,
   "id": "24df6d80-de4b-47ab-9a92-7724b898f94c",
   "metadata": {},
   "outputs": [
    {
     "name": "stdout",
     "output_type": "stream",
     "text": [
      "[0.78212291 0.80898876 0.86516854 0.78651685 0.83146067]\n",
      "0.815\n"
     ]
    }
   ],
   "source": [
    "rf = RandomForestClassifier(random_state = 1)\n",
    "cv = cross_val_score(rf, X_train, y_train,cv=5)\n",
    "print(cv)\n",
    "print(cv.mean().round(3))"
   ]
  },
  {
   "cell_type": "code",
   "execution_count": 38,
   "id": "7e43fb2f-8192-473e-ab21-7ddf03813dd0",
   "metadata": {},
   "outputs": [
    {
     "name": "stdout",
     "output_type": "stream",
     "text": [
      "[0.78212291 0.79775281 0.86516854 0.78651685 0.83146067]\n",
      "0.813\n"
     ]
    }
   ],
   "source": [
    "# scaled\n",
    "rf = RandomForestClassifier(random_state = 1)\n",
    "cv = cross_val_score(rf, X_train_scaled, y_train,cv=5)\n",
    "print(cv)\n",
    "print(cv.mean().round(3))"
   ]
  },
  {
   "cell_type": "code",
   "execution_count": 39,
   "id": "f67f678b-15e0-4207-895c-7e473b5a18fd",
   "metadata": {},
   "outputs": [
    {
     "name": "stdout",
     "output_type": "stream",
     "text": [
      "[0.58659218 0.71348315 0.69101124 0.68539326 0.69101124]\n",
      "0.673\n"
     ]
    }
   ],
   "source": [
    "svc = SVC(probability = True)\n",
    "cv = cross_val_score(svc, X_train, y_train,cv=5)\n",
    "print(cv)\n",
    "print(cv.mean().round(3))"
   ]
  },
  {
   "cell_type": "code",
   "execution_count": 40,
   "id": "9e5e720c-7c07-4940-9e76-1538c959cb06",
   "metadata": {},
   "outputs": [
    {
     "name": "stdout",
     "output_type": "stream",
     "text": [
      "[0.83240223 0.81460674 0.81460674 0.79775281 0.88202247]\n",
      "0.828\n"
     ]
    }
   ],
   "source": [
    "# scaled\n",
    "svc = SVC(probability = True)\n",
    "cv = cross_val_score(svc, X_train_scaled, y_train,cv=5)\n",
    "print(cv)\n",
    "print(cv.mean().round(3))"
   ]
  },
  {
   "cell_type": "code",
   "execution_count": 41,
   "id": "ac356db6-09a4-4d8d-ba49-c8021e7abf5b",
   "metadata": {},
   "outputs": [
    {
     "name": "stdout",
     "output_type": "stream",
     "text": [
      "[0.76536313 0.82022472 0.85955056 0.78651685 0.83707865]\n",
      "0.814\n"
     ]
    }
   ],
   "source": [
    "from xgboost import XGBClassifier\n",
    "\n",
    "xgb = XGBClassifier(random_state =1)\n",
    "cv = cross_val_score(xgb, X_train, y_train,cv=5)\n",
    "print(cv)\n",
    "print(cv.mean().round(3))"
   ]
  },
  {
   "cell_type": "code",
   "execution_count": 42,
   "id": "5bdbe6de-0c94-45cc-b490-8265ce4c1735",
   "metadata": {},
   "outputs": [
    {
     "name": "stdout",
     "output_type": "stream",
     "text": [
      "[0.77653631 0.82022472 0.85955056 0.78651685 0.83707865]\n",
      "0.816\n"
     ]
    }
   ],
   "source": [
    "# scaled\n",
    "xgb = XGBClassifier(random_state =1)\n",
    "cv = cross_val_score(xgb, X_train_scaled, y_train,cv=5)\n",
    "print(cv)\n",
    "print(cv.mean().round(3))"
   ]
  },
  {
   "cell_type": "code",
   "execution_count": 43,
   "id": "d677308e-bc2d-4d34-bc40-6c98c9a57b4e",
   "metadata": {},
   "outputs": [
    {
     "name": "stdout",
     "output_type": "stream",
     "text": [
      "[0.81005587 0.81460674 0.83707865 0.80898876 0.85393258]\n",
      "0.8249325214989642\n"
     ]
    }
   ],
   "source": [
    "from sklearn.ensemble import VotingClassifier\n",
    "voting_clf = VotingClassifier(estimators = [('lr',lr),\n",
    "                                            ('knn',knn),\n",
    "                                            ('rf',rf),\n",
    "                                            ('gnb',gnb),\n",
    "                                            ('svc',svc),\n",
    "                                            ('xgb',xgb)], \n",
    "                                            voting = 'soft')\n",
    "\n",
    "cv = cross_val_score(voting_clf,X_train_scaled,y_train,cv=5)\n",
    "print(cv)\n",
    "print(cv.mean())"
   ]
  },
  {
   "cell_type": "markdown",
   "id": "2f0bc3f3-87d8-4b56-a640-aa010ef46469",
   "metadata": {
    "tags": []
   },
   "source": [
    "<h4>Hypertuning</h4>"
   ]
  },
  {
   "cell_type": "code",
   "execution_count": 44,
   "id": "65d7a657-99a5-4859-bc9b-54231591370d",
   "metadata": {},
   "outputs": [],
   "source": [
    "from sklearn.model_selection import GridSearchCV \n",
    "from sklearn.model_selection import RandomizedSearchCV "
   ]
  },
  {
   "cell_type": "code",
   "execution_count": 45,
   "id": "fc276440-76bb-40f2-84bd-00c1af519651",
   "metadata": {},
   "outputs": [],
   "source": [
    "#simple performance reporting function - from Ken Jee\n",
    "def clf_performance(classifier, model_name):\n",
    "    print(model_name)\n",
    "    print('Best Score: ' + str(classifier.best_score_))\n",
    "    print('Best Parameters: ' + str(classifier.best_params_))"
   ]
  },
  {
   "cell_type": "markdown",
   "id": "1f8d95d9-906c-469e-85e2-a9e22cb885a9",
   "metadata": {
    "tags": []
   },
   "source": [
    "<h5>Random Forest</h5>"
   ]
  },
  {
   "cell_type": "code",
   "execution_count": 46,
   "id": "ace9fdd3-99f9-433a-bff7-f43b3fe7308c",
   "metadata": {},
   "outputs": [],
   "source": [
    "# Initial parameters\n",
    "\n",
    "# n_estimators = [int(x) for x in np.linspace(start =10, stop=100, num=10)]\n",
    "# criterion = ['gini', 'entropy']\n",
    "# max_depth = [15, 20, 25, None]\n",
    "# min_samples_split = [2, 5]\n",
    "# min_samples_leaf =[1, 2]\n",
    "# max_features = ['sqrt']\n",
    "# bootstrap = [True, False]"
   ]
  },
  {
   "cell_type": "markdown",
   "id": "8afa8471-7650-4d4d-9826-5f925a954b3d",
   "metadata": {},
   "source": [
    "Best Parameters\n",
    "{'bootstrap': True, \n",
    "'criterion': 'entropy', \n",
    "'max_depth': 25, \n",
    "'max_features': 'sqrt', \n",
    "'min_samples_leaf': 2, \n",
    "'min_samples_split': 2, \n",
    "'n_estimators': 60}"
   ]
  },
  {
   "cell_type": "code",
   "execution_count": 47,
   "id": "5423f728-c0e9-49fd-ab0c-5d195d44a92f",
   "metadata": {},
   "outputs": [],
   "source": [
    "n_estimators = [10]\n",
    "criterion = ['entropy']\n",
    "max_depth = [25]\n",
    "min_samples_split = [4]\n",
    "min_samples_leaf =[2]\n",
    "max_features = ['sqrt']\n",
    "bootstrap = [True]"
   ]
  },
  {
   "cell_type": "code",
   "execution_count": 48,
   "id": "7129dbf0-be55-4914-854f-7ea46b0e20ff",
   "metadata": {},
   "outputs": [
    {
     "name": "stdout",
     "output_type": "stream",
     "text": [
      "Random Forest\n",
      "Best Score: 0.8115058690603225\n",
      "Best Parameters: {'bootstrap': True, 'criterion': 'entropy', 'max_depth': 25, 'max_features': 'sqrt', 'min_samples_leaf': 2, 'min_samples_split': 4, 'n_estimators': 10}\n"
     ]
    }
   ],
   "source": [
    "rf = RandomForestClassifier()\n",
    "\n",
    "param_grid =  {'n_estimators': n_estimators,\n",
    "               'criterion': criterion,\n",
    "               'bootstrap': bootstrap,\n",
    "               'max_depth': max_depth,\n",
    "               'max_features': max_features,\n",
    "               'min_samples_leaf': min_samples_leaf,\n",
    "               'min_samples_split': min_samples_split}\n",
    "\n",
    "clf_rf = GridSearchCV(rf, param_grid = param_grid, cv = 5, verbose = False, n_jobs = 4)\n",
    "best_clf_rf = clf_rf.fit(X_train,y_train)\n",
    "clf_performance(best_clf_rf,'Random Forest')"
   ]
  },
  {
   "cell_type": "markdown",
   "id": "46181e8a-c7c5-4403-82f4-95d975f00633",
   "metadata": {
    "jp-MarkdownHeadingCollapsed": true,
    "tags": []
   },
   "source": [
    "<h5>Support Vector Classifier</h5>"
   ]
  },
  {
   "cell_type": "code",
   "execution_count": 49,
   "id": "de22acdf-1f5a-4b1a-bbca-0daf5c787027",
   "metadata": {},
   "outputs": [],
   "source": [
    "# Initial parameters\n",
    "\n",
    "# C = [.1, 1, 10, 100, 1000]\n",
    "# kernel =['linear', 'poly', 'rbf', 'sigmoid']\n",
    "# degree = [2,3,4,5]\n",
    "# gamma = ['scale', 'auto']"
   ]
  },
  {
   "cell_type": "markdown",
   "id": "2bd5b901-1ad9-40d2-9dfe-0953bbc99b4b",
   "metadata": {},
   "source": [
    "Best Parameters {'C': 10, 'degree': 3, 'gamma': 'auto', 'kernel': 'rbf'}"
   ]
  },
  {
   "cell_type": "code",
   "execution_count": 50,
   "id": "27ae271c-310b-4dd7-9782-0565e5f7bfc6",
   "metadata": {},
   "outputs": [],
   "source": [
    "C = [10]\n",
    "kernel =['rbf']\n",
    "degree = [3]\n",
    "gamma = ['auto']"
   ]
  },
  {
   "cell_type": "code",
   "execution_count": 51,
   "id": "5a1f98b2-1a53-43ea-af0f-9f81d06fd786",
   "metadata": {},
   "outputs": [
    {
     "name": "stdout",
     "output_type": "stream",
     "text": [
      "Support Vector Classifier\n",
      "Best Score: 0.8136965664427844\n",
      "Best Parameters: {'C': 10, 'degree': 3, 'gamma': 'auto', 'kernel': 'rbf'}\n"
     ]
    }
   ],
   "source": [
    "svc = SVC(probability = True)\n",
    "\n",
    "param_grid =  {'C': C,\n",
    "               'kernel': kernel,\n",
    "               'degree': degree,\n",
    "               'gamma': gamma}\n",
    "\n",
    "# clf_svc = RandomizedSearchCV(svc, param_distributions = param_grid, cv = 5, verbose = False, n_jobs = 4)\n",
    "# best_clf_svc = clf_svc.fit(X_train_scaled,y_train)\n",
    "# clf_performance(best_clf_svc,'Support Vector Classifier')\n",
    "\n",
    "# GridSearchCV was recommened over RandomizedSearchCV\n",
    "clf_svc = GridSearchCV(svc, param_grid = param_grid, cv = 5, verbose = False, n_jobs = 4)\n",
    "best_clf_svc = clf_svc.fit(X_train_scaled,y_train)\n",
    "clf_performance(best_clf_svc,'Support Vector Classifier')"
   ]
  },
  {
   "cell_type": "markdown",
   "id": "12e87994-065c-40e4-b5c9-f0de725a8527",
   "metadata": {
    "jp-MarkdownHeadingCollapsed": true,
    "tags": []
   },
   "source": [
    "<h5>Xtreme Gradient Boosting</h5>"
   ]
  },
  {
   "cell_type": "code",
   "execution_count": 52,
   "id": "535bc4b0-fa94-4d49-a678-3ad57fc75b36",
   "metadata": {},
   "outputs": [],
   "source": [
    "# Initial parameters\n",
    "\n",
    "# n_estimators = [450,500,550]\n",
    "# colsample_bytree = [0.75,0.8,0.85]\n",
    "# max_depth =[None]\n",
    "# reg_alpha = [1]\n",
    "# reg_lambda =[2, 5, 10]\n",
    "# subsample =[0.55, 0.6, .65]\n",
    "# learning_rate = [0.5]\n",
    "# gamma = [.5,1,2]\n",
    "# min_child_weight = [0.01]\n",
    "# sampling_method = ['uniform']"
   ]
  },
  {
   "cell_type": "markdown",
   "id": "465403bd-6bae-42dc-8c76-d88027740071",
   "metadata": {},
   "source": [
    "Best Parameters\n",
    "{'colsample_bytree': 0.75, 'gamma': 1, 'learning_rate': 0.5, 'max_depth': None, 'min_child_weight': 0.01, 'n_estimators': 550, 'reg_alpha': 1, 'reg_lambda': 5, 'sampling_method': 'uniform', 'subsample': 0.65}"
   ]
  },
  {
   "cell_type": "code",
   "execution_count": 53,
   "id": "1074a718-8cd3-4416-af34-0217d8ea59d0",
   "metadata": {},
   "outputs": [],
   "source": [
    "n_estimators = [550]\n",
    "colsample_bytree = [0.75]\n",
    "max_depth =[None]\n",
    "reg_alpha = [1]\n",
    "reg_lambda =[5]\n",
    "subsample =[0.65]\n",
    "learning_rate = [0.5]\n",
    "gamma = [1]\n",
    "min_child_weight = [0.01]\n",
    "sampling_method = ['uniform']"
   ]
  },
  {
   "cell_type": "code",
   "execution_count": 54,
   "id": "b2bbdbb5-abdc-40cb-af4a-2f0965be09cf",
   "metadata": {},
   "outputs": [
    {
     "name": "stdout",
     "output_type": "stream",
     "text": [
      "Fitting 5 folds for each of 1 candidates, totalling 5 fits\n",
      "XGB\n",
      "Best Score: 0.8428912183792605\n",
      "Best Parameters: {'colsample_bytree': 0.75, 'gamma': 1, 'learning_rate': 0.5, 'max_depth': None, 'min_child_weight': 0.01, 'n_estimators': 550, 'reg_alpha': 1, 'reg_lambda': 5, 'sampling_method': 'uniform', 'subsample': 0.65}\n"
     ]
    }
   ],
   "source": [
    "xgb = XGBClassifier(random_state = 1)\n",
    "\n",
    "param_grid = {\n",
    "    'n_estimators': n_estimators,\n",
    "    'colsample_bytree': colsample_bytree,\n",
    "    'max_depth': max_depth,\n",
    "    'reg_alpha': reg_alpha,\n",
    "    'reg_lambda': reg_lambda,\n",
    "    'subsample': subsample,\n",
    "    'learning_rate': learning_rate,\n",
    "    'gamma': gamma,\n",
    "    'min_child_weight': min_child_weight,\n",
    "    'sampling_method': sampling_method\n",
    "}\n",
    "\n",
    "clf_xgb = GridSearchCV(xgb, param_grid = param_grid, cv = 5, verbose = True, n_jobs = -1)\n",
    "best_clf_xgb = clf_xgb.fit(X_train,y_train)\n",
    "clf_performance(best_clf_xgb,'XGB')"
   ]
  },
  {
   "cell_type": "markdown",
   "id": "1ba92baf-0ed6-4da4-ad4a-6ea1aa4c92e1",
   "metadata": {
    "tags": []
   },
   "source": [
    "<h4>Model Results</h4>"
   ]
  },
  {
   "cell_type": "code",
   "execution_count": 55,
   "id": "040a08e6-3e0b-410c-9e1f-7ee5c3f9fc2f",
   "metadata": {},
   "outputs": [],
   "source": [
    "y_hat_svc = best_clf_svc.best_estimator_.predict(X_test_scaled).astype(int)"
   ]
  },
  {
   "cell_type": "code",
   "execution_count": 56,
   "id": "abea57f2-f4ea-48de-8846-69d890f66f80",
   "metadata": {},
   "outputs": [],
   "source": [
    "y_hat_rf = best_clf_rf.best_estimator_.predict(X_test_scaled).astype(int)"
   ]
  },
  {
   "cell_type": "code",
   "execution_count": 57,
   "id": "11b01271-353b-4a97-86ee-5560c2835213",
   "metadata": {},
   "outputs": [],
   "source": [
    "y_hat_xgb = best_clf_xgb.best_estimator_.predict(df_Test).astype(int)"
   ]
  },
  {
   "cell_type": "markdown",
   "id": "e9aec1f4-9c09-46d5-b4a7-e1fe5700234a",
   "metadata": {
    "tags": []
   },
   "source": [
    "<h5>Confusion Matrix Plots</h5>"
   ]
  },
  {
   "cell_type": "code",
   "execution_count": 58,
   "id": "d995d944-df11-480d-bf74-56357d76658d",
   "metadata": {},
   "outputs": [],
   "source": [
    "from sklearn.metrics import classification_report, confusion_matrix\n",
    "import itertools\n",
    "\n",
    "def plot_confusion_matrix(cm, classes,\n",
    "                          normalize=False,\n",
    "                          title='Confusion matrix',\n",
    "                          cmap=plt.cm.Blues):\n",
    "    \"\"\"\n",
    "    This function prints and plots the confusion matrix.\n",
    "    Normalization can be applied by setting `normalize=True`.\n",
    "    \"\"\"\n",
    "    if normalize:\n",
    "        cm = cm.astype('float') / cm.sum(axis=1)[:, np.newaxis]\n",
    "        print(\"Normalized confusion matrix\")\n",
    "    else:\n",
    "        print('Confusion matrix, without normalization')\n",
    "\n",
    "    print(cm)\n",
    "\n",
    "    plt.imshow(cm, interpolation='nearest', cmap=cmap)\n",
    "    plt.title(title)\n",
    "    plt.colorbar()\n",
    "    tick_marks = np.arange(len(classes))\n",
    "    plt.xticks(tick_marks, classes, rotation=45)\n",
    "    plt.yticks(tick_marks, classes)\n",
    "\n",
    "    fmt = '.2f' if normalize else 'd'\n",
    "    thresh = cm.max() / 2.\n",
    "    for i, j in itertools.product(range(cm.shape[0]), range(cm.shape[1])):\n",
    "        plt.text(j, i, format(cm[i, j], fmt),\n",
    "                 horizontalalignment=\"center\",\n",
    "                 color=\"white\" if cm[i, j] > thresh else \"black\")\n",
    "\n",
    "    plt.tight_layout()\n",
    "    plt.ylabel('True label')\n",
    "    plt.xlabel('Predicted label')"
   ]
  },
  {
   "cell_type": "code",
   "execution_count": 59,
   "id": "a1574b8d-886c-4165-9fb4-37de5a945372",
   "metadata": {},
   "outputs": [
    {
     "name": "stdout",
     "output_type": "stream",
     "text": [
      "Confusion matrix, without normalization\n",
      "[[115  37]\n",
      " [ 19 247]]\n"
     ]
    },
    {
     "data": {
      "image/png": "[encoded data removed]",
      "text/plain": [
       "<Figure size 432x288 with 2 Axes>"
      ]
     },
     "metadata": {
      "needs_background": "light"
     },
     "output_type": "display_data"
    }
   ],
   "source": [
    "# Support Vector Classifier\n",
    "\n",
    "cnf_matrix = confusion_matrix(y_test, y_hat_svc, labels=[1,0])\n",
    "np.set_printoptions(precision=2)\n",
    "\n",
    "\n",
    "# Plot non-normalized confusion matrix\n",
    "plt.figure()\n",
    "plot_confusion_matrix(cnf_matrix, classes=['churn=1','churn=0'],normalize= False,  title='Confusion matrix')"
   ]
  },
  {
   "cell_type": "code",
   "execution_count": 60,
   "id": "8a388dfa-2c1b-4ddc-b1c2-920830b64244",
   "metadata": {},
   "outputs": [
    {
     "name": "stdout",
     "output_type": "stream",
     "text": [
      "Confusion matrix, without normalization\n",
      "[[148   4]\n",
      " [ 83 183]]\n"
     ]
    },
    {
     "data": {
      "image/png": "[encoded data removed]",
      "text/plain": [
       "<Figure size 432x288 with 2 Axes>"
      ]
     },
     "metadata": {
      "needs_background": "light"
     },
     "output_type": "display_data"
    }
   ],
   "source": [
    "# Random Forest Classifier\n",
    "\n",
    "cnf_matrix = confusion_matrix(y_test, y_hat_rf, labels=[1,0])\n",
    "np.set_printoptions(precision=2)\n",
    "\n",
    "\n",
    "# Plot non-normalized confusion matrix\n",
    "plt.figure()\n",
    "plot_confusion_matrix(cnf_matrix, classes=['churn=1','churn=0'],normalize= False,  title='Confusion matrix')"
   ]
  },
  {
   "cell_type": "code",
   "execution_count": 61,
   "id": "165f8783-088e-4e52-8367-88472fca23f5",
   "metadata": {},
   "outputs": [
    {
     "name": "stdout",
     "output_type": "stream",
     "text": [
      "Confusion matrix, without normalization\n",
      "[[107  45]\n",
      " [ 26 240]]\n"
     ]
    },
    {
     "data": {
      "image/png": "[encoded data removed]",
      "text/plain": [
       "<Figure size 432x288 with 2 Axes>"
      ]
     },
     "metadata": {
      "needs_background": "light"
     },
     "output_type": "display_data"
    }
   ],
   "source": [
    "# Xtreme Gradient Boosting\n",
    "\n",
    "cnf_matrix = confusion_matrix(y_test, y_hat_xgb, labels=[1,0])\n",
    "np.set_printoptions(precision=2)\n",
    "\n",
    "\n",
    "# Plot non-normalized confusion matrix\n",
    "plt.figure()\n",
    "plot_confusion_matrix(cnf_matrix, classes=['churn=1','churn=0'],normalize= False,  title='Confusion matrix')"
   ]
  },
  {
   "cell_type": "code",
   "execution_count": 62,
   "id": "32d2636b-5bc1-4232-bc0e-0daad389bb2c",
   "metadata": {},
   "outputs": [
    {
     "name": "stdout",
     "output_type": "stream",
     "text": [
      "Support Vector Classifier Score:\n",
      "              precision    recall  f1-score   support\n",
      "\n",
      "           0       0.87      0.93      0.90       266\n",
      "           1       0.86      0.76      0.80       152\n",
      "\n",
      "    accuracy                           0.87       418\n",
      "   macro avg       0.86      0.84      0.85       418\n",
      "weighted avg       0.87      0.87      0.86       418\n",
      "\n"
     ]
    }
   ],
   "source": [
    "print('Support Vector Classifier Score:')\n",
    "print (classification_report(y_test, y_hat_svc))"
   ]
  },
  {
   "cell_type": "code",
   "execution_count": 63,
   "id": "b7ac98e6-29cf-42a7-8d18-c13563ade0f6",
   "metadata": {},
   "outputs": [
    {
     "name": "stdout",
     "output_type": "stream",
     "text": [
      "Random Forest Classifier Score:\n",
      "              precision    recall  f1-score   support\n",
      "\n",
      "           0       0.98      0.69      0.81       266\n",
      "           1       0.64      0.97      0.77       152\n",
      "\n",
      "    accuracy                           0.79       418\n",
      "   macro avg       0.81      0.83      0.79       418\n",
      "weighted avg       0.86      0.79      0.80       418\n",
      "\n"
     ]
    }
   ],
   "source": [
    "print('Random Forest Classifier Score:')\n",
    "print (classification_report(y_test, y_hat_rf))"
   ]
  },
  {
   "cell_type": "code",
   "execution_count": 64,
   "id": "c7ccf158-c813-4eb5-8d07-2b4825813c77",
   "metadata": {},
   "outputs": [
    {
     "name": "stdout",
     "output_type": "stream",
     "text": [
      "Xtreme Gradient Boosting Score:\n",
      "              precision    recall  f1-score   support\n",
      "\n",
      "           0       0.84      0.90      0.87       266\n",
      "           1       0.80      0.70      0.75       152\n",
      "\n",
      "    accuracy                           0.83       418\n",
      "   macro avg       0.82      0.80      0.81       418\n",
      "weighted avg       0.83      0.83      0.83       418\n",
      "\n"
     ]
    }
   ],
   "source": [
    "print('Xtreme Gradient Boosting Score:')\n",
    "print (classification_report(y_test, y_hat_xgb))"
   ]
  },
  {
   "cell_type": "code",
   "execution_count": 65,
   "id": "9830a6e6-a848-4d3c-bc76-ea0a40052a19",
   "metadata": {},
   "outputs": [
    {
     "name": "stdout",
     "output_type": "stream",
     "text": [
      "Jaccard Score for svc: : 0.82\n",
      "Jaccard Score for rf: : 0.68\n",
      "Jaccard Score for xbg: : 0.77\n"
     ]
    }
   ],
   "source": [
    "\n",
    "from sklearn.metrics import jaccard_score\n",
    "\n",
    "print(\"Jaccard Score for svc: : %.2f\" % jaccard_score(y_test, y_hat_svc,pos_label=0))\n",
    "print(\"Jaccard Score for rf: : %.2f\" % jaccard_score(y_test, y_hat_rf,pos_label=0))\n",
    "print(\"Jaccard Score for xbg: : %.2f\" % jaccard_score(y_test, y_hat_xgb,pos_label=0))\n"
   ]
  },
  {
   "cell_type": "markdown",
   "id": "cb7015a7-19b0-4b6a-aae6-66fe2d013ef3",
   "metadata": {
    "tags": []
   },
   "source": [
    "<h3>Output Results</h3>"
   ]
  },
  {
   "cell_type": "code",
   "execution_count": 66,
   "id": "15fb3608-8593-4a66-ba0b-6df96356d092",
   "metadata": {},
   "outputs": [],
   "source": [
    "# Select the best predictions and convert to a dataset \n",
    "pred_svc = pd.DataFrame(y_hat_svc)\n",
    "pred_rf = pd.DataFrame(y_hat_rf)\n",
    "pred_xgb = pd.DataFrame(y_hat_xgb)\n",
    "\n",
    "# Format data for submission\n",
    "sub_df = pd.read_csv('gender_submission.csv')"
   ]
  },
  {
   "cell_type": "code",
   "execution_count": 67,
   "id": "8c3623a1-a882-420e-a99f-6e8abb282683",
   "metadata": {},
   "outputs": [],
   "source": [
    "# dataset_svc = pd.concat([sub_df['PassengerId'],pred_svc], axis='columns')\n",
    "# dataset_svc.columns=['PassengerId','Survived']\n",
    "# dataset_svc.to_csv('submission_svc.csv', index=False)"
   ]
  },
  {
   "cell_type": "code",
   "execution_count": 68,
   "id": "36cb9189-68f1-43f2-a53f-efdacf475cc0",
   "metadata": {},
   "outputs": [],
   "source": [
    "# dataset_rf = pd.concat([sub_df['PassengerId'],pred_rf], axis='columns')\n",
    "# dataset_rf.columns=['PassengerId','Survived']\n",
    "# dataset_rf.to_csv('submission_rf_2.csv', index=False)"
   ]
  },
  {
   "cell_type": "code",
   "execution_count": 69,
   "id": "9f2be8e9-f08b-42da-b34a-a7eee9ab4366",
   "metadata": {},
   "outputs": [],
   "source": [
    "# dataset_xgb = pd.concat([sub_df['PassengerId'],pred_xgb], axis='columns')\n",
    "# dataset_xgb.columns=['PassengerId','Survived']\n",
    "# dataset_xgb.to_csv('submission_xgb.csv', index=False)"
   ]
  },
  {
   "cell_type": "markdown",
   "id": "d1665d52-1c39-4427-9d48-77a95cca349f",
   "metadata": {},
   "source": [
    "Xtreme Gradient Boosting had the best prediction after submitting on Kaggle with a 76% accuracy."
   ]
  }
 ],
 "metadata": {
  "kernelspec": {
   "display_name": "Python 3 (ipykernel)",
   "language": "python",
   "name": "python3"
  },
  "language_info": {
   "codemirror_mode": {
    "name": "ipython",
    "version": 3
   },
   "file_extension": ".py",
   "mimetype": "text/x-python",
   "name": "python",
   "nbconvert_exporter": "python",
   "pygments_lexer": "ipython3",
   "version": "3.10.4"
  }
 },
 "nbformat": 4,
 "nbformat_minor": 5
}
