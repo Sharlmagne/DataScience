{
 "cells": [
  {
   "cell_type": "code",
   "execution_count": 1,
   "id": "f030ff98-f7eb-4a4e-8f9c-604f370c7d5d",
   "metadata": {},
   "outputs": [],
   "source": [
    "import numpy as np\n",
    "import pandas as pd\n",
    "import seaborn as sns\n",
    "import matplotlib.pyplot as plt"
   ]
  },
  {
   "cell_type": "code",
   "execution_count": 2,
   "id": "fdacb927-fa0a-4937-8b53-2bb5d82d528b",
   "metadata": {},
   "outputs": [],
   "source": [
    "pd.set_option('display.max_rows', 500)\n",
    "pd.set_option('display.max_columns', 500)\n",
    "pd.set_option('display.width', 1000)"
   ]
  },
  {
   "cell_type": "code",
   "execution_count": 3,
   "id": "0ad5b103-b680-4b5f-8b87-1baccb29f871",
   "metadata": {},
   "outputs": [],
   "source": [
    "df = pd.read_csv('train.csv')"
   ]
  },
  {
   "cell_type": "code",
   "execution_count": 4,
   "id": "aa0bffd4-0784-4d79-8336-5412ea7f4fe5",
   "metadata": {},
   "outputs": [
    {
     "data": {
      "text/html": [
       "<div>\n",
       "<style scoped>\n",
       "    .dataframe tbody tr th:only-of-type {\n",
       "        vertical-align: middle;\n",
       "    }\n",
       "\n",
       "    .dataframe tbody tr th {\n",
       "        vertical-align: top;\n",
       "    }\n",
       "\n",
       "    .dataframe thead th {\n",
       "        text-align: right;\n",
       "    }\n",
       "</style>\n",
       "<table border=\"1\" class=\"dataframe\">\n",
       "  <thead>\n",
       "    <tr style=\"text-align: right;\">\n",
       "      <th></th>\n",
       "      <th>PassengerId</th>\n",
       "      <th>Survived</th>\n",
       "      <th>Pclass</th>\n",
       "      <th>Name</th>\n",
       "      <th>Sex</th>\n",
       "      <th>Age</th>\n",
       "      <th>SibSp</th>\n",
       "      <th>Parch</th>\n",
       "      <th>Ticket</th>\n",
       "      <th>Fare</th>\n",
       "      <th>Cabin</th>\n",
       "      <th>Embarked</th>\n",
       "    </tr>\n",
       "  </thead>\n",
       "  <tbody>\n",
       "    <tr>\n",
       "      <th>0</th>\n",
       "      <td>1</td>\n",
       "      <td>0</td>\n",
       "      <td>3</td>\n",
       "      <td>Braund, Mr. Owen Harris</td>\n",
       "      <td>male</td>\n",
       "      <td>22.0</td>\n",
       "      <td>1</td>\n",
       "      <td>0</td>\n",
       "      <td>A/5 21171</td>\n",
       "      <td>7.2500</td>\n",
       "      <td>NaN</td>\n",
       "      <td>S</td>\n",
       "    </tr>\n",
       "    <tr>\n",
       "      <th>1</th>\n",
       "      <td>2</td>\n",
       "      <td>1</td>\n",
       "      <td>1</td>\n",
       "      <td>Cumings, Mrs. John Bradley (Florence Briggs Th...</td>\n",
       "      <td>female</td>\n",
       "      <td>38.0</td>\n",
       "      <td>1</td>\n",
       "      <td>0</td>\n",
       "      <td>PC 17599</td>\n",
       "      <td>71.2833</td>\n",
       "      <td>C85</td>\n",
       "      <td>C</td>\n",
       "    </tr>\n",
       "    <tr>\n",
       "      <th>2</th>\n",
       "      <td>3</td>\n",
       "      <td>1</td>\n",
       "      <td>3</td>\n",
       "      <td>Heikkinen, Miss. Laina</td>\n",
       "      <td>female</td>\n",
       "      <td>26.0</td>\n",
       "      <td>0</td>\n",
       "      <td>0</td>\n",
       "      <td>STON/O2. 3101282</td>\n",
       "      <td>7.9250</td>\n",
       "      <td>NaN</td>\n",
       "      <td>S</td>\n",
       "    </tr>\n",
       "    <tr>\n",
       "      <th>3</th>\n",
       "      <td>4</td>\n",
       "      <td>1</td>\n",
       "      <td>1</td>\n",
       "      <td>Futrelle, Mrs. Jacques Heath (Lily May Peel)</td>\n",
       "      <td>female</td>\n",
       "      <td>35.0</td>\n",
       "      <td>1</td>\n",
       "      <td>0</td>\n",
       "      <td>113803</td>\n",
       "      <td>53.1000</td>\n",
       "      <td>C123</td>\n",
       "      <td>S</td>\n",
       "    </tr>\n",
       "    <tr>\n",
       "      <th>4</th>\n",
       "      <td>5</td>\n",
       "      <td>0</td>\n",
       "      <td>3</td>\n",
       "      <td>Allen, Mr. William Henry</td>\n",
       "      <td>male</td>\n",
       "      <td>35.0</td>\n",
       "      <td>0</td>\n",
       "      <td>0</td>\n",
       "      <td>373450</td>\n",
       "      <td>8.0500</td>\n",
       "      <td>NaN</td>\n",
       "      <td>S</td>\n",
       "    </tr>\n",
       "  </tbody>\n",
       "</table>\n",
       "</div>"
      ],
      "text/plain": [
       "   PassengerId  Survived  Pclass                                               Name     Sex   Age  SibSp  Parch            Ticket     Fare Cabin Embarked\n",
       "0            1         0       3                            Braund, Mr. Owen Harris    male  22.0      1      0         A/5 21171   7.2500   NaN        S\n",
       "1            2         1       1  Cumings, Mrs. John Bradley (Florence Briggs Th...  female  38.0      1      0          PC 17599  71.2833   C85        C\n",
       "2            3         1       3                             Heikkinen, Miss. Laina  female  26.0      0      0  STON/O2. 3101282   7.9250   NaN        S\n",
       "3            4         1       1       Futrelle, Mrs. Jacques Heath (Lily May Peel)  female  35.0      1      0            113803  53.1000  C123        S\n",
       "4            5         0       3                           Allen, Mr. William Henry    male  35.0      0      0            373450   8.0500   NaN        S"
      ]
     },
     "execution_count": 4,
     "metadata": {},
     "output_type": "execute_result"
    }
   ],
   "source": [
    "df.head()"
   ]
  },
  {
   "cell_type": "code",
   "execution_count": 5,
   "id": "fc7115db-c78e-4484-ae41-96a158f2604f",
   "metadata": {},
   "outputs": [
    {
     "data": {
      "text/plain": [
       "(891, 12)"
      ]
     },
     "execution_count": 5,
     "metadata": {},
     "output_type": "execute_result"
    }
   ],
   "source": [
    "df.shape"
   ]
  },
  {
   "cell_type": "markdown",
   "id": "e8169937-eb93-4d79-a130-c23146aad4ac",
   "metadata": {
    "tags": []
   },
   "source": [
    "<h4>Analyze the data for categorical variables</h4>"
   ]
  },
  {
   "cell_type": "code",
   "execution_count": 6,
   "id": "41a9a4d4-4503-41af-8418-67d6a9805b8c",
   "metadata": {},
   "outputs": [
    {
     "data": {
      "text/html": [
       "<div>\n",
       "<style scoped>\n",
       "    .dataframe tbody tr th:only-of-type {\n",
       "        vertical-align: middle;\n",
       "    }\n",
       "\n",
       "    .dataframe tbody tr th {\n",
       "        vertical-align: top;\n",
       "    }\n",
       "\n",
       "    .dataframe thead th {\n",
       "        text-align: right;\n",
       "    }\n",
       "</style>\n",
       "<table border=\"1\" class=\"dataframe\">\n",
       "  <thead>\n",
       "    <tr style=\"text-align: right;\">\n",
       "      <th></th>\n",
       "      <th>Name</th>\n",
       "      <th>Sex</th>\n",
       "      <th>Ticket</th>\n",
       "      <th>Cabin</th>\n",
       "      <th>Embarked</th>\n",
       "    </tr>\n",
       "  </thead>\n",
       "  <tbody>\n",
       "    <tr>\n",
       "      <th>count</th>\n",
       "      <td>891</td>\n",
       "      <td>891</td>\n",
       "      <td>891</td>\n",
       "      <td>204</td>\n",
       "      <td>889</td>\n",
       "    </tr>\n",
       "    <tr>\n",
       "      <th>unique</th>\n",
       "      <td>891</td>\n",
       "      <td>2</td>\n",
       "      <td>681</td>\n",
       "      <td>147</td>\n",
       "      <td>3</td>\n",
       "    </tr>\n",
       "    <tr>\n",
       "      <th>top</th>\n",
       "      <td>Braund, Mr. Owen Harris</td>\n",
       "      <td>male</td>\n",
       "      <td>347082</td>\n",
       "      <td>B96 B98</td>\n",
       "      <td>S</td>\n",
       "    </tr>\n",
       "    <tr>\n",
       "      <th>freq</th>\n",
       "      <td>1</td>\n",
       "      <td>577</td>\n",
       "      <td>7</td>\n",
       "      <td>4</td>\n",
       "      <td>644</td>\n",
       "    </tr>\n",
       "  </tbody>\n",
       "</table>\n",
       "</div>"
      ],
      "text/plain": [
       "                           Name   Sex  Ticket    Cabin Embarked\n",
       "count                       891   891     891      204      889\n",
       "unique                      891     2     681      147        3\n",
       "top     Braund, Mr. Owen Harris  male  347082  B96 B98        S\n",
       "freq                          1   577       7        4      644"
      ]
     },
     "execution_count": 6,
     "metadata": {},
     "output_type": "execute_result"
    }
   ],
   "source": [
    "df.describe(include=['object'])"
   ]
  },
  {
   "cell_type": "code",
   "execution_count": 7,
   "id": "02e64df7-28d7-44a5-9e08-91fc7950601d",
   "metadata": {},
   "outputs": [
    {
     "data": {
      "text/html": [
       "<div>\n",
       "<style scoped>\n",
       "    .dataframe tbody tr th:only-of-type {\n",
       "        vertical-align: middle;\n",
       "    }\n",
       "\n",
       "    .dataframe tbody tr th {\n",
       "        vertical-align: top;\n",
       "    }\n",
       "\n",
       "    .dataframe thead th {\n",
       "        text-align: right;\n",
       "    }\n",
       "</style>\n",
       "<table border=\"1\" class=\"dataframe\">\n",
       "  <thead>\n",
       "    <tr style=\"text-align: right;\">\n",
       "      <th></th>\n",
       "      <th>Pclass</th>\n",
       "    </tr>\n",
       "  </thead>\n",
       "  <tbody>\n",
       "    <tr>\n",
       "      <th>3</th>\n",
       "      <td>491</td>\n",
       "    </tr>\n",
       "    <tr>\n",
       "      <th>1</th>\n",
       "      <td>216</td>\n",
       "    </tr>\n",
       "    <tr>\n",
       "      <th>2</th>\n",
       "      <td>184</td>\n",
       "    </tr>\n",
       "  </tbody>\n",
       "</table>\n",
       "</div>"
      ],
      "text/plain": [
       "   Pclass\n",
       "3     491\n",
       "1     216\n",
       "2     184"
      ]
     },
     "execution_count": 7,
     "metadata": {},
     "output_type": "execute_result"
    }
   ],
   "source": [
    "df['Pclass'].value_counts().to_frame()"
   ]
  },
  {
   "cell_type": "code",
   "execution_count": null,
   "id": "581d3a31-7f6a-451b-a362-c1acdce156eb",
   "metadata": {},
   "outputs": [],
   "source": []
  },
  {
   "cell_type": "code",
   "execution_count": 8,
   "id": "aae6036d-7188-4cc1-992e-978db59fdd9b",
   "metadata": {},
   "outputs": [
    {
     "data": {
      "image/png": "[encoded data removed]",
      "text/plain": [
       "<Figure size 864x576 with 1 Axes>"
      ]
     },
     "metadata": {
      "needs_background": "light"
     },
     "output_type": "display_data"
    }
   ],
   "source": [
    "# Determine the relationship between the ticket class and survival outcome\n",
    "plt.figure(figsize=(12,8))\n",
    "ax = sns.countplot(x = 'Pclass',\n",
    "            hue = 'Survived',\n",
    "            data = df)\n",
    " \n",
    "plt.xlabel('Ticket Class', fontsize=16) \n",
    "plt.ylabel('Count', fontsize=16)\n",
    "plt.title(label=\"Relationship between ticket class and survival\", fontsize=20)\n",
    "\n",
    "for p in ax.patches:\n",
    "   ax.annotate('{:.1f}'.format(p.get_height()), (p.get_x()+0.25, p.get_height()+0.01))\n",
    "\n",
    "plt.show()"
   ]
  },
  {
   "cell_type": "code",
   "execution_count": 9,
   "id": "7149dd06-3779-4131-a190-b1c2b18f333c",
   "metadata": {},
   "outputs": [
    {
     "data": {
      "text/html": [
       "<div>\n",
       "<style scoped>\n",
       "    .dataframe tbody tr th:only-of-type {\n",
       "        vertical-align: middle;\n",
       "    }\n",
       "\n",
       "    .dataframe tbody tr th {\n",
       "        vertical-align: top;\n",
       "    }\n",
       "\n",
       "    .dataframe thead th {\n",
       "        text-align: right;\n",
       "    }\n",
       "</style>\n",
       "<table border=\"1\" class=\"dataframe\">\n",
       "  <thead>\n",
       "    <tr style=\"text-align: right;\">\n",
       "      <th></th>\n",
       "      <th>Pclass</th>\n",
       "      <th>Survived</th>\n",
       "    </tr>\n",
       "  </thead>\n",
       "  <tbody>\n",
       "    <tr>\n",
       "      <th>Pclass</th>\n",
       "      <td>1.000000</td>\n",
       "      <td>-0.338481</td>\n",
       "    </tr>\n",
       "    <tr>\n",
       "      <th>Survived</th>\n",
       "      <td>-0.338481</td>\n",
       "      <td>1.000000</td>\n",
       "    </tr>\n",
       "  </tbody>\n",
       "</table>\n",
       "</div>"
      ],
      "text/plain": [
       "            Pclass  Survived\n",
       "Pclass    1.000000 -0.338481\n",
       "Survived -0.338481  1.000000"
      ]
     },
     "execution_count": 9,
     "metadata": {},
     "output_type": "execute_result"
    }
   ],
   "source": [
    "df[['Pclass', 'Survived']].corr()"
   ]
  },
  {
   "cell_type": "markdown",
   "id": "ad6d17b7-38c5-42d9-b42a-2d0535b60399",
   "metadata": {},
   "source": [
    "According to the graph above the third class (cheapest class) had the worst ratio of survival versus first and second class.\n",
    "Simple put, you are more likely to die if you were in the regular class and more likely to survive in first class. Class is has a 34% positive correlation to survival; higher the class, higher the chances of survival."
   ]
  },
  {
   "cell_type": "code",
   "execution_count": 10,
   "id": "7e169314-c7cc-4b34-a74a-fa2cd3429274",
   "metadata": {},
   "outputs": [
    {
     "data": {
      "text/html": [
       "<div>\n",
       "<style scoped>\n",
       "    .dataframe tbody tr th:only-of-type {\n",
       "        vertical-align: middle;\n",
       "    }\n",
       "\n",
       "    .dataframe tbody tr th {\n",
       "        vertical-align: top;\n",
       "    }\n",
       "\n",
       "    .dataframe thead th {\n",
       "        text-align: right;\n",
       "    }\n",
       "</style>\n",
       "<table border=\"1\" class=\"dataframe\">\n",
       "  <thead>\n",
       "    <tr style=\"text-align: right;\">\n",
       "      <th></th>\n",
       "      <th>Embarked</th>\n",
       "    </tr>\n",
       "  </thead>\n",
       "  <tbody>\n",
       "    <tr>\n",
       "      <th>S</th>\n",
       "      <td>644</td>\n",
       "    </tr>\n",
       "    <tr>\n",
       "      <th>C</th>\n",
       "      <td>168</td>\n",
       "    </tr>\n",
       "    <tr>\n",
       "      <th>Q</th>\n",
       "      <td>77</td>\n",
       "    </tr>\n",
       "  </tbody>\n",
       "</table>\n",
       "</div>"
      ],
      "text/plain": [
       "   Embarked\n",
       "S       644\n",
       "C       168\n",
       "Q        77"
      ]
     },
     "execution_count": 10,
     "metadata": {},
     "output_type": "execute_result"
    }
   ],
   "source": [
    "df['Embarked'].value_counts().to_frame()"
   ]
  },
  {
   "cell_type": "code",
   "execution_count": 11,
   "id": "f74d8f0e-d200-4271-a2b7-9b05bddebc02",
   "metadata": {},
   "outputs": [
    {
     "data": {
      "image/png": "[encoded data removed]",
      "text/plain": [
       "<Figure size 864x576 with 1 Axes>"
      ]
     },
     "metadata": {
      "needs_background": "light"
     },
     "output_type": "display_data"
    }
   ],
   "source": [
    "# Determine the relationship between port of embarkation and survival outcome\n",
    "plt.figure(figsize=(12,8))\n",
    "ax = sns.countplot(x = 'Embarked',\n",
    "            hue = 'Survived',\n",
    "            data = df)\n",
    " \n",
    "plt.xlabel('Port of Embarkation', fontsize=16) \n",
    "plt.ylabel('Count', fontsize=16)\n",
    "plt.title(label=\"Relationship between port of embarkation and survival\", fontsize=20)\n",
    "\n",
    "for p in ax.patches:\n",
    "   ax.annotate('{:.1f}'.format(p.get_height()), (p.get_x()+0.25, p.get_height()+0.01))\n",
    "\n",
    "plt.show()"
   ]
  },
  {
   "cell_type": "markdown",
   "id": "2c4c44fc-52db-406d-a9ca-60216c561ab2",
   "metadata": {},
   "source": [
    "Majority of the passengers embarked from Southampton, but around half did not survive. While survival was slightly more likely for passengers embarking from Cherbourg."
   ]
  },
  {
   "cell_type": "code",
   "execution_count": 12,
   "id": "48fbcf6d-a345-42b7-9869-cd02c6ceb823",
   "metadata": {},
   "outputs": [],
   "source": [
    "age_group = []"
   ]
  },
  {
   "cell_type": "code",
   "execution_count": 13,
   "id": "afef049b-42d1-45c9-b7df-ac75906407f1",
   "metadata": {},
   "outputs": [
    {
     "data": {
      "text/plain": [
       "(891, 1)"
      ]
     },
     "execution_count": 13,
     "metadata": {},
     "output_type": "execute_result"
    }
   ],
   "source": [
    "for age in df['Age']:\n",
    "    if age > 0 and age < 2:\n",
    "        age_group.append('infant')\n",
    "    elif age > 2 and age < 12:\n",
    "        age_group.append('child')\n",
    "    elif age > 12 and age < 20:\n",
    "        age_group.append('teen')\n",
    "    elif age > 20 and age < 65:\n",
    "        age_group.append('adult')\n",
    "    elif age > 65:\n",
    "        age_group.append('senior')\n",
    "    else:\n",
    "        age_group.append('unkown')\n",
    "        \n",
    "age_group = pd.DataFrame(age_group, columns=['AgeGroup'])\n",
    "age_group.shape"
   ]
  },
  {
   "cell_type": "code",
   "execution_count": 14,
   "id": "bb72da4f-a4b4-4b83-8073-c21148252e7b",
   "metadata": {},
   "outputs": [],
   "source": [
    "df2 = pd.concat([df,age_group], axis='columns')"
   ]
  },
  {
   "cell_type": "code",
   "execution_count": 15,
   "id": "51c1e67c-d272-4906-bac5-f9492c4b4873",
   "metadata": {},
   "outputs": [
    {
     "data": {
      "text/html": [
       "<div>\n",
       "<style scoped>\n",
       "    .dataframe tbody tr th:only-of-type {\n",
       "        vertical-align: middle;\n",
       "    }\n",
       "\n",
       "    .dataframe tbody tr th {\n",
       "        vertical-align: top;\n",
       "    }\n",
       "\n",
       "    .dataframe thead th {\n",
       "        text-align: right;\n",
       "    }\n",
       "</style>\n",
       "<table border=\"1\" class=\"dataframe\">\n",
       "  <thead>\n",
       "    <tr style=\"text-align: right;\">\n",
       "      <th></th>\n",
       "      <th>Sex</th>\n",
       "    </tr>\n",
       "  </thead>\n",
       "  <tbody>\n",
       "    <tr>\n",
       "      <th>male</th>\n",
       "      <td>577</td>\n",
       "    </tr>\n",
       "    <tr>\n",
       "      <th>female</th>\n",
       "      <td>314</td>\n",
       "    </tr>\n",
       "  </tbody>\n",
       "</table>\n",
       "</div>"
      ],
      "text/plain": [
       "        Sex\n",
       "male    577\n",
       "female  314"
      ]
     },
     "execution_count": 15,
     "metadata": {},
     "output_type": "execute_result"
    }
   ],
   "source": [
    "df2['Sex'].value_counts().to_frame()"
   ]
  },
  {
   "cell_type": "code",
   "execution_count": 16,
   "id": "3e3d9d8d-70e1-48e8-b5fd-5439f70d1e07",
   "metadata": {},
   "outputs": [
    {
     "data": {
      "image/png": "[encoded data removed]",
      "text/plain": [
       "<Figure size 864x576 with 1 Axes>"
      ]
     },
     "metadata": {
      "needs_background": "light"
     },
     "output_type": "display_data"
    }
   ],
   "source": [
    "# Determine the relationship between sex and survival outcome\n",
    "plt.figure(figsize=(12,8))\n",
    "ax = sns.countplot(x = 'Sex',\n",
    "            hue = 'Survived',\n",
    "            data = df2)\n",
    "\n",
    "plt.xlabel('Sex', fontsize=16) \n",
    "plt.ylabel('Count', fontsize=16)\n",
    "plt.title(label=\"Relationship between Sex and survival\", fontsize=20)\n",
    "\n",
    "for p in ax.patches:\n",
    "   ax.annotate('{:.1f}'.format(p.get_height()), (p.get_x()+0.25, p.get_height()+0.01))\n",
    "\n",
    "plt.show()"
   ]
  },
  {
   "cell_type": "code",
   "execution_count": 17,
   "id": "f0e6c7a5-d775-4847-a463-f9f92372991d",
   "metadata": {},
   "outputs": [
    {
     "data": {
      "text/plain": [
       "<Figure size 864x576 with 0 Axes>"
      ]
     },
     "metadata": {},
     "output_type": "display_data"
    },
    {
     "data": {
      "image/png": "[encoded data removed]",
      "text/plain": [
       "<Figure size 794.625x360 with 2 Axes>"
      ]
     },
     "metadata": {
      "needs_background": "light"
     },
     "output_type": "display_data"
    }
   ],
   "source": [
    "# Determine the relationship between sex and survival outcome\n",
    "plt.figure(figsize=(12,8))\n",
    "# ax = sns.countplot(x = 'Sex',\n",
    "#             hue = 'Survived',\n",
    "#             data = df2)\n",
    "\n",
    "ax = sns.catplot(x=\"Survived\", hue=\"AgeGroup\", col=\"Sex\",\n",
    "                data=df2, kind=\"count\")\n",
    "plt.show()"
   ]
  },
  {
   "cell_type": "code",
   "execution_count": 18,
   "id": "cd9cd131-9a03-4c4d-861c-8a4b08e91900",
   "metadata": {},
   "outputs": [],
   "source": [
    "# Show the number of survivals among the different sexes.\n",
    "\n",
    "sex_pivot = pd.pivot_table(df, index='Survived', columns='Sex', values='Ticket', aggfunc='count', margins=True, margins_name='Total')"
   ]
  },
  {
   "cell_type": "code",
   "execution_count": 19,
   "id": "dbbaf7c3-746b-49df-872a-7ff8c0f24e8e",
   "metadata": {},
   "outputs": [],
   "source": [
    "# Show the percentage of survival among the different sexes.\n",
    "\n",
    "sex_pivot2 = pd.DataFrame(((sex_pivot.iloc[:][0:1].values/sex_pivot.iloc[:][2:3].values)*100), \n",
    "                  columns=sex_pivot.columns)\n",
    "sex_pivot3 = pd.DataFrame(((sex_pivot.iloc[:][1:2].values/sex_pivot.iloc[:][2:3].values)*100), \n",
    "                  columns=sex_pivot.columns)\n",
    "\n",
    "sex_pivot2 = sex_pivot2.round(2)\n",
    "sex_pivot3 = sex_pivot3.round(2)"
   ]
  },
  {
   "cell_type": "code",
   "execution_count": 20,
   "id": "f863bff4-25b6-4096-9bac-5152d657d474",
   "metadata": {},
   "outputs": [],
   "source": [
    "# Show the number of survivals among the different age groups.\n",
    "\n",
    "agegroup_pivot = pd.pivot_table(df2, index='Survived', columns='AgeGroup', values='Ticket', aggfunc='count', margins=True, margins_name='Total')"
   ]
  },
  {
   "cell_type": "code",
   "execution_count": 21,
   "id": "720083b9-aff2-4a9d-a9bb-c579febb0de5",
   "metadata": {},
   "outputs": [],
   "source": [
    "# Show the percentage of survival among the different age groups.\n",
    "\n",
    "agegroup_pivot2 = pd.DataFrame(((agegroup_pivot.iloc[:][0:1].values/agegroup_pivot.iloc[:][2:3].values)*100), \n",
    "                  columns=agegroup_pivot.columns)\n",
    "\n",
    "agegroup_pivot3 = pd.DataFrame(((agegroup_pivot.iloc[:][1:2].values/agegroup_pivot.iloc[:][2:3].values)*100), \n",
    "                  columns=agegroup_pivot.columns)\n",
    "\n",
    "agegroup_pivot2 = agegroup_pivot2.round(2)\n",
    "agegroup_pivot3 = agegroup_pivot3.round(2)"
   ]
  },
  {
   "cell_type": "code",
   "execution_count": 22,
   "id": "58e14efc-26ed-4596-890f-6ed41b2957ad",
   "metadata": {},
   "outputs": [
    {
     "data": {
      "text/html": [
       "<div>\n",
       "<style scoped>\n",
       "    .dataframe tbody tr th:only-of-type {\n",
       "        vertical-align: middle;\n",
       "    }\n",
       "\n",
       "    .dataframe tbody tr th {\n",
       "        vertical-align: top;\n",
       "    }\n",
       "\n",
       "    .dataframe thead th {\n",
       "        text-align: right;\n",
       "    }\n",
       "</style>\n",
       "<table border=\"1\" class=\"dataframe\">\n",
       "  <thead>\n",
       "    <tr style=\"text-align: right;\">\n",
       "      <th>Sex</th>\n",
       "      <th>female</th>\n",
       "      <th>male</th>\n",
       "      <th>Total</th>\n",
       "    </tr>\n",
       "    <tr>\n",
       "      <th>Survived</th>\n",
       "      <th></th>\n",
       "      <th></th>\n",
       "      <th></th>\n",
       "    </tr>\n",
       "  </thead>\n",
       "  <tbody>\n",
       "    <tr>\n",
       "      <th>0</th>\n",
       "      <td>81</td>\n",
       "      <td>468</td>\n",
       "      <td>549</td>\n",
       "    </tr>\n",
       "    <tr>\n",
       "      <th>1</th>\n",
       "      <td>233</td>\n",
       "      <td>109</td>\n",
       "      <td>342</td>\n",
       "    </tr>\n",
       "    <tr>\n",
       "      <th>Total</th>\n",
       "      <td>314</td>\n",
       "      <td>577</td>\n",
       "      <td>891</td>\n",
       "    </tr>\n",
       "  </tbody>\n",
       "</table>\n",
       "</div>"
      ],
      "text/plain": [
       "Sex       female  male  Total\n",
       "Survived                     \n",
       "0             81   468    549\n",
       "1            233   109    342\n",
       "Total        314   577    891"
      ]
     },
     "metadata": {},
     "output_type": "display_data"
    },
    {
     "data": {
      "text/html": [
       "<div>\n",
       "<style scoped>\n",
       "    .dataframe tbody tr th:only-of-type {\n",
       "        vertical-align: middle;\n",
       "    }\n",
       "\n",
       "    .dataframe tbody tr th {\n",
       "        vertical-align: top;\n",
       "    }\n",
       "\n",
       "    .dataframe thead th {\n",
       "        text-align: right;\n",
       "    }\n",
       "</style>\n",
       "<table border=\"1\" class=\"dataframe\">\n",
       "  <thead>\n",
       "    <tr style=\"text-align: right;\">\n",
       "      <th>AgeGroup</th>\n",
       "      <th>adult</th>\n",
       "      <th>child</th>\n",
       "      <th>infant</th>\n",
       "      <th>senior</th>\n",
       "      <th>teen</th>\n",
       "      <th>unkown</th>\n",
       "      <th>Total</th>\n",
       "    </tr>\n",
       "    <tr>\n",
       "      <th>Survived</th>\n",
       "      <th></th>\n",
       "      <th></th>\n",
       "      <th></th>\n",
       "      <th></th>\n",
       "      <th></th>\n",
       "      <th></th>\n",
       "      <th></th>\n",
       "    </tr>\n",
       "  </thead>\n",
       "  <tbody>\n",
       "    <tr>\n",
       "      <th>0</th>\n",
       "      <td>317</td>\n",
       "      <td>20</td>\n",
       "      <td>2</td>\n",
       "      <td>7</td>\n",
       "      <td>56</td>\n",
       "      <td>147</td>\n",
       "      <td>549</td>\n",
       "    </tr>\n",
       "    <tr>\n",
       "      <th>1</th>\n",
       "      <td>207</td>\n",
       "      <td>24</td>\n",
       "      <td>12</td>\n",
       "      <td>1</td>\n",
       "      <td>39</td>\n",
       "      <td>59</td>\n",
       "      <td>342</td>\n",
       "    </tr>\n",
       "    <tr>\n",
       "      <th>Total</th>\n",
       "      <td>524</td>\n",
       "      <td>44</td>\n",
       "      <td>14</td>\n",
       "      <td>8</td>\n",
       "      <td>95</td>\n",
       "      <td>206</td>\n",
       "      <td>891</td>\n",
       "    </tr>\n",
       "  </tbody>\n",
       "</table>\n",
       "</div>"
      ],
      "text/plain": [
       "AgeGroup  adult  child  infant  senior  teen  unkown  Total\n",
       "Survived                                                   \n",
       "0           317     20       2       7    56     147    549\n",
       "1           207     24      12       1    39      59    342\n",
       "Total       524     44      14       8    95     206    891"
      ]
     },
     "metadata": {},
     "output_type": "display_data"
    },
    {
     "data": {
      "text/html": [
       "<div>\n",
       "<style scoped>\n",
       "    .dataframe tbody tr th:only-of-type {\n",
       "        vertical-align: middle;\n",
       "    }\n",
       "\n",
       "    .dataframe tbody tr th {\n",
       "        vertical-align: top;\n",
       "    }\n",
       "\n",
       "    .dataframe thead th {\n",
       "        text-align: right;\n",
       "    }\n",
       "</style>\n",
       "<table border=\"1\" class=\"dataframe\">\n",
       "  <thead>\n",
       "    <tr style=\"text-align: right;\">\n",
       "      <th>Sex</th>\n",
       "      <th>female</th>\n",
       "      <th>male</th>\n",
       "      <th>Total</th>\n",
       "    </tr>\n",
       "  </thead>\n",
       "  <tbody>\n",
       "    <tr>\n",
       "      <th>0</th>\n",
       "      <td>74.2</td>\n",
       "      <td>18.89</td>\n",
       "      <td>38.38</td>\n",
       "    </tr>\n",
       "  </tbody>\n",
       "</table>\n",
       "</div>"
      ],
      "text/plain": [
       "Sex  female   male  Total\n",
       "0      74.2  18.89  38.38"
      ]
     },
     "metadata": {},
     "output_type": "display_data"
    },
    {
     "data": {
      "text/html": [
       "<div>\n",
       "<style scoped>\n",
       "    .dataframe tbody tr th:only-of-type {\n",
       "        vertical-align: middle;\n",
       "    }\n",
       "\n",
       "    .dataframe tbody tr th {\n",
       "        vertical-align: top;\n",
       "    }\n",
       "\n",
       "    .dataframe thead th {\n",
       "        text-align: right;\n",
       "    }\n",
       "</style>\n",
       "<table border=\"1\" class=\"dataframe\">\n",
       "  <thead>\n",
       "    <tr style=\"text-align: right;\">\n",
       "      <th>AgeGroup</th>\n",
       "      <th>adult</th>\n",
       "      <th>child</th>\n",
       "      <th>infant</th>\n",
       "      <th>senior</th>\n",
       "      <th>teen</th>\n",
       "      <th>unkown</th>\n",
       "      <th>Total</th>\n",
       "    </tr>\n",
       "  </thead>\n",
       "  <tbody>\n",
       "    <tr>\n",
       "      <th>0</th>\n",
       "      <td>39.5</td>\n",
       "      <td>54.55</td>\n",
       "      <td>85.71</td>\n",
       "      <td>12.5</td>\n",
       "      <td>41.05</td>\n",
       "      <td>28.64</td>\n",
       "      <td>38.38</td>\n",
       "    </tr>\n",
       "  </tbody>\n",
       "</table>\n",
       "</div>"
      ],
      "text/plain": [
       "AgeGroup  adult  child  infant  senior   teen  unkown  Total\n",
       "0          39.5  54.55   85.71    12.5  41.05   28.64  38.38"
      ]
     },
     "metadata": {},
     "output_type": "display_data"
    }
   ],
   "source": [
    "display(sex_pivot, agegroup_pivot, sex_pivot3, agegroup_pivot3)"
   ]
  },
  {
   "cell_type": "markdown",
   "id": "c84baf99-d177-4e9d-a9af-62fad01a2bc2",
   "metadata": {},
   "source": [
    "- Survival rate is better among infants(ages 0-2) 85.7% and women 74.2% in general.\n",
    "- 18.9% of the males survived.\n",
    "- Senior citizens (age 65+) had a survival rate of 12.5%\n",
    "- Age tends to be inversely proportional to survivability."
   ]
  },
  {
   "cell_type": "markdown",
   "id": "d78bfa1e-0fe8-4ed2-a0fd-f3e3edde9a0a",
   "metadata": {
    "tags": []
   },
   "source": [
    "<h4>Analyze the data for numerical variables</h4>"
   ]
  },
  {
   "cell_type": "code",
   "execution_count": 23,
   "id": "9eccc24c-b293-46e4-ae1c-07b96aa2b5b4",
   "metadata": {},
   "outputs": [
    {
     "data": {
      "text/html": [
       "<div>\n",
       "<style scoped>\n",
       "    .dataframe tbody tr th:only-of-type {\n",
       "        vertical-align: middle;\n",
       "    }\n",
       "\n",
       "    .dataframe tbody tr th {\n",
       "        vertical-align: top;\n",
       "    }\n",
       "\n",
       "    .dataframe thead th {\n",
       "        text-align: right;\n",
       "    }\n",
       "</style>\n",
       "<table border=\"1\" class=\"dataframe\">\n",
       "  <thead>\n",
       "    <tr style=\"text-align: right;\">\n",
       "      <th></th>\n",
       "      <th>PassengerId</th>\n",
       "      <th>Survived</th>\n",
       "      <th>Pclass</th>\n",
       "      <th>Age</th>\n",
       "      <th>SibSp</th>\n",
       "      <th>Parch</th>\n",
       "      <th>Fare</th>\n",
       "    </tr>\n",
       "  </thead>\n",
       "  <tbody>\n",
       "    <tr>\n",
       "      <th>count</th>\n",
       "      <td>891.000000</td>\n",
       "      <td>891.000000</td>\n",
       "      <td>891.000000</td>\n",
       "      <td>714.000000</td>\n",
       "      <td>891.000000</td>\n",
       "      <td>891.000000</td>\n",
       "      <td>891.000000</td>\n",
       "    </tr>\n",
       "    <tr>\n",
       "      <th>mean</th>\n",
       "      <td>446.000000</td>\n",
       "      <td>0.383838</td>\n",
       "      <td>2.308642</td>\n",
       "      <td>29.699118</td>\n",
       "      <td>0.523008</td>\n",
       "      <td>0.381594</td>\n",
       "      <td>32.204208</td>\n",
       "    </tr>\n",
       "    <tr>\n",
       "      <th>std</th>\n",
       "      <td>257.353842</td>\n",
       "      <td>0.486592</td>\n",
       "      <td>0.836071</td>\n",
       "      <td>14.526497</td>\n",
       "      <td>1.102743</td>\n",
       "      <td>0.806057</td>\n",
       "      <td>49.693429</td>\n",
       "    </tr>\n",
       "    <tr>\n",
       "      <th>min</th>\n",
       "      <td>1.000000</td>\n",
       "      <td>0.000000</td>\n",
       "      <td>1.000000</td>\n",
       "      <td>0.420000</td>\n",
       "      <td>0.000000</td>\n",
       "      <td>0.000000</td>\n",
       "      <td>0.000000</td>\n",
       "    </tr>\n",
       "    <tr>\n",
       "      <th>25%</th>\n",
       "      <td>223.500000</td>\n",
       "      <td>0.000000</td>\n",
       "      <td>2.000000</td>\n",
       "      <td>20.125000</td>\n",
       "      <td>0.000000</td>\n",
       "      <td>0.000000</td>\n",
       "      <td>7.910400</td>\n",
       "    </tr>\n",
       "    <tr>\n",
       "      <th>50%</th>\n",
       "      <td>446.000000</td>\n",
       "      <td>0.000000</td>\n",
       "      <td>3.000000</td>\n",
       "      <td>28.000000</td>\n",
       "      <td>0.000000</td>\n",
       "      <td>0.000000</td>\n",
       "      <td>14.454200</td>\n",
       "    </tr>\n",
       "    <tr>\n",
       "      <th>75%</th>\n",
       "      <td>668.500000</td>\n",
       "      <td>1.000000</td>\n",
       "      <td>3.000000</td>\n",
       "      <td>38.000000</td>\n",
       "      <td>1.000000</td>\n",
       "      <td>0.000000</td>\n",
       "      <td>31.000000</td>\n",
       "    </tr>\n",
       "    <tr>\n",
       "      <th>max</th>\n",
       "      <td>891.000000</td>\n",
       "      <td>1.000000</td>\n",
       "      <td>3.000000</td>\n",
       "      <td>80.000000</td>\n",
       "      <td>8.000000</td>\n",
       "      <td>6.000000</td>\n",
       "      <td>512.329200</td>\n",
       "    </tr>\n",
       "  </tbody>\n",
       "</table>\n",
       "</div>"
      ],
      "text/plain": [
       "       PassengerId    Survived      Pclass         Age       SibSp       Parch        Fare\n",
       "count   891.000000  891.000000  891.000000  714.000000  891.000000  891.000000  891.000000\n",
       "mean    446.000000    0.383838    2.308642   29.699118    0.523008    0.381594   32.204208\n",
       "std     257.353842    0.486592    0.836071   14.526497    1.102743    0.806057   49.693429\n",
       "min       1.000000    0.000000    1.000000    0.420000    0.000000    0.000000    0.000000\n",
       "25%     223.500000    0.000000    2.000000   20.125000    0.000000    0.000000    7.910400\n",
       "50%     446.000000    0.000000    3.000000   28.000000    0.000000    0.000000   14.454200\n",
       "75%     668.500000    1.000000    3.000000   38.000000    1.000000    0.000000   31.000000\n",
       "max     891.000000    1.000000    3.000000   80.000000    8.000000    6.000000  512.329200"
      ]
     },
     "execution_count": 23,
     "metadata": {},
     "output_type": "execute_result"
    }
   ],
   "source": [
    "df.describe()"
   ]
  },
  {
   "cell_type": "code",
   "execution_count": 24,
   "id": "e31e3590-7134-48f6-ad4a-a2ef505719e4",
   "metadata": {},
   "outputs": [
    {
     "data": {
      "text/html": [
       "<div>\n",
       "<style scoped>\n",
       "    .dataframe tbody tr th:only-of-type {\n",
       "        vertical-align: middle;\n",
       "    }\n",
       "\n",
       "    .dataframe tbody tr th {\n",
       "        vertical-align: top;\n",
       "    }\n",
       "\n",
       "    .dataframe thead th {\n",
       "        text-align: right;\n",
       "    }\n",
       "</style>\n",
       "<table border=\"1\" class=\"dataframe\">\n",
       "  <thead>\n",
       "    <tr style=\"text-align: right;\">\n",
       "      <th>Sex</th>\n",
       "      <th>female</th>\n",
       "      <th>male</th>\n",
       "      <th>Total</th>\n",
       "    </tr>\n",
       "    <tr>\n",
       "      <th>Survived</th>\n",
       "      <th></th>\n",
       "      <th></th>\n",
       "      <th></th>\n",
       "    </tr>\n",
       "  </thead>\n",
       "  <tbody>\n",
       "    <tr>\n",
       "      <th>0</th>\n",
       "      <td>25.046875</td>\n",
       "      <td>31.618056</td>\n",
       "      <td>30.626179</td>\n",
       "    </tr>\n",
       "    <tr>\n",
       "      <th>1</th>\n",
       "      <td>28.847716</td>\n",
       "      <td>27.276022</td>\n",
       "      <td>28.343690</td>\n",
       "    </tr>\n",
       "    <tr>\n",
       "      <th>Total</th>\n",
       "      <td>27.915709</td>\n",
       "      <td>30.726645</td>\n",
       "      <td>29.699118</td>\n",
       "    </tr>\n",
       "  </tbody>\n",
       "</table>\n",
       "</div>"
      ],
      "text/plain": [
       "Sex          female       male      Total\n",
       "Survived                                 \n",
       "0         25.046875  31.618056  30.626179\n",
       "1         28.847716  27.276022  28.343690\n",
       "Total     27.915709  30.726645  29.699118"
      ]
     },
     "execution_count": 24,
     "metadata": {},
     "output_type": "execute_result"
    }
   ],
   "source": [
    "pd.pivot_table(df, index='Survived', columns='Sex', values='Age', margins=True, margins_name='Total')"
   ]
  },
  {
   "cell_type": "markdown",
   "id": "b1eab15f-a682-404d-94aa-d36949eb101b",
   "metadata": {},
   "source": [
    " - Average survial age is 29years old for female and 27years old for men"
   ]
  },
  {
   "cell_type": "code",
   "execution_count": 25,
   "id": "1d3c88d0-43cf-441f-9bbd-f73b4f2a022c",
   "metadata": {},
   "outputs": [],
   "source": [
    "# Create list of all the numeric fields\n",
    "df_num = df[['Age', 'SibSp', 'Parch', 'Fare']]"
   ]
  },
  {
   "cell_type": "code",
   "execution_count": 26,
   "id": "ac46b7a8-c374-4792-9cb5-bf21c3e804b0",
   "metadata": {},
   "outputs": [
    {
     "data": {
      "image/png": "[encoded data removed]",
      "text/plain": [
       "<Figure size 432x288 with 1 Axes>"
      ]
     },
     "metadata": {
      "needs_background": "light"
     },
     "output_type": "display_data"
    },
    {
     "data": {
      "image/png": "[encoded data removed]",
      "text/plain": [
       "<Figure size 432x288 with 1 Axes>"
      ]
     },
     "metadata": {
      "needs_background": "light"
     },
     "output_type": "display_data"
    },
    {
     "data": {
      "image/png": "[encoded data removed]",
      "text/plain": [
       "<Figure size 432x288 with 1 Axes>"
      ]
     },
     "metadata": {
      "needs_background": "light"
     },
     "output_type": "display_data"
    },
    {
     "data": {
      "image/png": "[encoded data removed]",
      "text/plain": [
       "<Figure size 432x288 with 1 Axes>"
      ]
     },
     "metadata": {
      "needs_background": "light"
     },
     "output_type": "display_data"
    }
   ],
   "source": [
    "for i in df_num.columns:\n",
    "    sns.histplot(data=df, x=i)\n",
    "    plt.title(i)\n",
    "    plt.show()"
   ]
  },
  {
   "cell_type": "code",
   "execution_count": 27,
   "id": "196fd42f-3b7c-4af0-bf66-ded4c7c6cfb5",
   "metadata": {},
   "outputs": [
    {
     "data": {
      "text/html": [
       "<div>\n",
       "<style scoped>\n",
       "    .dataframe tbody tr th:only-of-type {\n",
       "        vertical-align: middle;\n",
       "    }\n",
       "\n",
       "    .dataframe tbody tr th {\n",
       "        vertical-align: top;\n",
       "    }\n",
       "\n",
       "    .dataframe thead th {\n",
       "        text-align: right;\n",
       "    }\n",
       "</style>\n",
       "<table border=\"1\" class=\"dataframe\">\n",
       "  <thead>\n",
       "    <tr style=\"text-align: right;\">\n",
       "      <th></th>\n",
       "      <th>Age</th>\n",
       "      <th>SibSp</th>\n",
       "      <th>Parch</th>\n",
       "      <th>Fare</th>\n",
       "    </tr>\n",
       "  </thead>\n",
       "  <tbody>\n",
       "    <tr>\n",
       "      <th>Age</th>\n",
       "      <td>1.000000</td>\n",
       "      <td>-0.308247</td>\n",
       "      <td>-0.189119</td>\n",
       "      <td>0.096067</td>\n",
       "    </tr>\n",
       "    <tr>\n",
       "      <th>SibSp</th>\n",
       "      <td>-0.308247</td>\n",
       "      <td>1.000000</td>\n",
       "      <td>0.414838</td>\n",
       "      <td>0.159651</td>\n",
       "    </tr>\n",
       "    <tr>\n",
       "      <th>Parch</th>\n",
       "      <td>-0.189119</td>\n",
       "      <td>0.414838</td>\n",
       "      <td>1.000000</td>\n",
       "      <td>0.216225</td>\n",
       "    </tr>\n",
       "    <tr>\n",
       "      <th>Fare</th>\n",
       "      <td>0.096067</td>\n",
       "      <td>0.159651</td>\n",
       "      <td>0.216225</td>\n",
       "      <td>1.000000</td>\n",
       "    </tr>\n",
       "  </tbody>\n",
       "</table>\n",
       "</div>"
      ],
      "text/plain": [
       "            Age     SibSp     Parch      Fare\n",
       "Age    1.000000 -0.308247 -0.189119  0.096067\n",
       "SibSp -0.308247  1.000000  0.414838  0.159651\n",
       "Parch -0.189119  0.414838  1.000000  0.216225\n",
       "Fare   0.096067  0.159651  0.216225  1.000000"
      ]
     },
     "metadata": {},
     "output_type": "display_data"
    },
    {
     "data": {
      "text/plain": [
       "<AxesSubplot:>"
      ]
     },
     "execution_count": 27,
     "metadata": {},
     "output_type": "execute_result"
    },
    {
     "data": {
      "image/png": "[encoded data removed]",
      "text/plain": [
       "<Figure size 432x288 with 2 Axes>"
      ]
     },
     "metadata": {
      "needs_background": "light"
     },
     "output_type": "display_data"
    }
   ],
   "source": [
    "display(df_num.corr())\n",
    "sns.heatmap(df_num.corr())"
   ]
  },
  {
   "cell_type": "markdown",
   "id": "5e115d14-b6f6-41a4-9d1a-c070a90d39ba",
   "metadata": {},
   "source": [
    "- As age increases the posibility of a sibling, spouse, parent or child being onboard decreases.\n",
    "- As expected, and increase in fare correlates to an increase in the possibility that a sibling, spouse, parent or child is accompanying on board.\n",
    "- Fare also has a positive correlation to age."
   ]
  },
  {
   "cell_type": "markdown",
   "id": "2e72a969-a623-47ab-923a-6f09a18f85c3",
   "metadata": {
    "tags": []
   },
   "source": [
    "<h4>Additional Questions</h4>"
   ]
  },
  {
   "cell_type": "markdown",
   "id": "34cadaec-673d-4bbd-8b0b-494759404da4",
   "metadata": {},
   "source": [
    "- Did the captain survive?\n",
    "- Whats the rate of survival for parents?\n",
    "- Did name title affect survival rate?"
   ]
  },
  {
   "cell_type": "code",
   "execution_count": null,
   "id": "d22055dd-25b3-43f0-862f-15913378c118",
   "metadata": {},
   "outputs": [],
   "source": []
  }
 ],
 "metadata": {
  "kernelspec": {
   "display_name": "Python 3 (ipykernel)",
   "language": "python",
   "name": "python3"
  },
  "language_info": {
   "codemirror_mode": {
    "name": "ipython",
    "version": 3
   },
   "file_extension": ".py",
   "mimetype": "text/x-python",
   "name": "python",
   "nbconvert_exporter": "python",
   "pygments_lexer": "ipython3",
   "version": "3.10.4"
  }
 },
 "nbformat": 4,
 "nbformat_minor": 5
}
